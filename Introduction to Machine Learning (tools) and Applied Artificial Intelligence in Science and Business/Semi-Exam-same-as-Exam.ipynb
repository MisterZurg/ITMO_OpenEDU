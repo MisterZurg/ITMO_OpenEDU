{
 "cells":[
  {
   "cell_type":"code",
   "source":[
    "import pandas as pd"
   ],
   "execution_count":1,
   "outputs":[
    
   ],
   "metadata":{
    "datalore":{
     "node_id":"03V4MmoIgU2H0YVWp5Xq9M",
     "type":"CODE",
     "hide_input_from_viewers":true,
     "hide_output_from_viewers":true
    }
   }
  },
  {
   "cell_type":"code",
   "source":[
    "df = pd.read_csv(\"\/data\/notebook_files\/report (1).csv\")\n",
    "df.head()"
   ],
   "execution_count":2,
   "outputs":[
    {
     "data":{
      "text\/html":[
       "<div>\n",
       "<style scoped>\n",
       "    .dataframe tbody tr th:only-of-type {\n",
       "        vertical-align: middle;\n",
       "    }\n",
       "\n",
       "    .dataframe tbody tr th {\n",
       "        vertical-align: top;\n",
       "    }\n",
       "\n",
       "    .dataframe thead th {\n",
       "        text-align: right;\n",
       "    }\n",
       "<\/style>\n",
       "<table border=\"1\" class=\"dataframe\">\n",
       "  <thead>\n",
       "    <tr style=\"text-align: right;\">\n",
       "      <th><\/th>\n",
       "      <th>MIP<\/th>\n",
       "      <th>STDIP<\/th>\n",
       "      <th>EKIP<\/th>\n",
       "      <th>SIP<\/th>\n",
       "      <th>MC<\/th>\n",
       "      <th>STDC<\/th>\n",
       "      <th>EKC<\/th>\n",
       "      <th>SC<\/th>\n",
       "      <th>TARGET<\/th>\n",
       "    <\/tr>\n",
       "  <\/thead>\n",
       "  <tbody>\n",
       "    <tr>\n",
       "      <th>0<\/th>\n",
       "      <td>137.218750<\/td>\n",
       "      <td>45.390655<\/td>\n",
       "      <td>0.034985<\/td>\n",
       "      <td>0.134409<\/td>\n",
       "      <td>3.204013<\/td>\n",
       "      <td>17.177857<\/td>\n",
       "      <td>7.494588<\/td>\n",
       "      <td>74.003104<\/td>\n",
       "      <td>0<\/td>\n",
       "    <\/tr>\n",
       "    <tr>\n",
       "      <th>1<\/th>\n",
       "      <td>93.773438<\/td>\n",
       "      <td>41.883062<\/td>\n",
       "      <td>0.371402<\/td>\n",
       "      <td>1.291232<\/td>\n",
       "      <td>1.482441<\/td>\n",
       "      <td>12.959050<\/td>\n",
       "      <td>12.242911<\/td>\n",
       "      <td>180.158844<\/td>\n",
       "      <td>0<\/td>\n",
       "    <\/tr>\n",
       "    <tr>\n",
       "      <th>2<\/th>\n",
       "      <td>73.632812<\/td>\n",
       "      <td>35.461218<\/td>\n",
       "      <td>1.153607<\/td>\n",
       "      <td>4.161082<\/td>\n",
       "      <td>2.099498<\/td>\n",
       "      <td>13.057474<\/td>\n",
       "      <td>10.013591<\/td>\n",
       "      <td>140.894151<\/td>\n",
       "      <td>0<\/td>\n",
       "    <\/tr>\n",
       "    <tr>\n",
       "      <th>3<\/th>\n",
       "      <td>93.429688<\/td>\n",
       "      <td>39.883166<\/td>\n",
       "      <td>0.602060<\/td>\n",
       "      <td>1.518548<\/td>\n",
       "      <td>2.475753<\/td>\n",
       "      <td>14.146578<\/td>\n",
       "      <td>8.770640<\/td>\n",
       "      <td>107.970173<\/td>\n",
       "      <td>0<\/td>\n",
       "    <\/tr>\n",
       "    <tr>\n",
       "      <th>4<\/th>\n",
       "      <td>131.625000<\/td>\n",
       "      <td>44.111896<\/td>\n",
       "      <td>0.108905<\/td>\n",
       "      <td>0.239879<\/td>\n",
       "      <td>33.888796<\/td>\n",
       "      <td>70.398342<\/td>\n",
       "      <td>1.689460<\/td>\n",
       "      <td>1.031847<\/td>\n",
       "      <td>0<\/td>\n",
       "    <\/tr>\n",
       "  <\/tbody>\n",
       "<\/table>\n",
       "<\/div>"
      ]
     },
     "metadata":{
      
     },
     "output_type":"display_data"
    }
   ],
   "metadata":{
    "datalore":{
     "node_id":"qIH7ItqLS4OmhcMfNUPsVQ",
     "type":"CODE",
     "hide_input_from_viewers":true,
     "hide_output_from_viewers":true
    }
   }
  },
  {
   "cell_type":"markdown",
   "source":[
    "## 1. The task is to draw the sample from the  table using four queries based on the following criteria:\n",
    "- All rows of the table where `TARGET = 0` and `MIP in [82.9453125, 84.3515625]`\n",
    "- All rows of the table where `TARGET = 1` and `MIP in [83.7734375, 92.6015625]`"
   ],
   "attachments":{
    
   },
   "metadata":{
    "datalore":{
     "node_id":"me8vWDBYl3BwWdypB2XWuF",
     "type":"MD",
     "hide_input_from_viewers":true,
     "hide_output_from_viewers":true
    }
   }
  },
  {
   "cell_type":"code",
   "source":[
    "sample_df = df.query(\n",
    "    \"TARGET == 0 and MIP >= 82.9453125 and MIP <= 84.3515625 or TARGET == 1 and MIP >= 83.7734375 and MIP <= 92.6015625\"\n",
    ")\n",
    "sample_df.head()"
   ],
   "execution_count":3,
   "outputs":[
    {
     "data":{
      "text\/html":[
       "<div>\n",
       "<style scoped>\n",
       "    .dataframe tbody tr th:only-of-type {\n",
       "        vertical-align: middle;\n",
       "    }\n",
       "\n",
       "    .dataframe tbody tr th {\n",
       "        vertical-align: top;\n",
       "    }\n",
       "\n",
       "    .dataframe thead th {\n",
       "        text-align: right;\n",
       "    }\n",
       "<\/style>\n",
       "<table border=\"1\" class=\"dataframe\">\n",
       "  <thead>\n",
       "    <tr style=\"text-align: right;\">\n",
       "      <th><\/th>\n",
       "      <th>MIP<\/th>\n",
       "      <th>STDIP<\/th>\n",
       "      <th>EKIP<\/th>\n",
       "      <th>SIP<\/th>\n",
       "      <th>MC<\/th>\n",
       "      <th>STDC<\/th>\n",
       "      <th>EKC<\/th>\n",
       "      <th>SC<\/th>\n",
       "      <th>TARGET<\/th>\n",
       "    <\/tr>\n",
       "  <\/thead>\n",
       "  <tbody>\n",
       "    <tr>\n",
       "      <th>187<\/th>\n",
       "      <td>84.742188<\/td>\n",
       "      <td>40.007274<\/td>\n",
       "      <td>1.368957<\/td>\n",
       "      <td>3.812073<\/td>\n",
       "      <td>5.736622<\/td>\n",
       "      <td>32.047311<\/td>\n",
       "      <td>5.979603<\/td>\n",
       "      <td>36.147975<\/td>\n",
       "      <td>1<\/td>\n",
       "    <\/tr>\n",
       "    <tr>\n",
       "      <th>190<\/th>\n",
       "      <td>91.828125<\/td>\n",
       "      <td>34.111744<\/td>\n",
       "      <td>1.446682<\/td>\n",
       "      <td>5.265289<\/td>\n",
       "      <td>3.741639<\/td>\n",
       "      <td>25.317370<\/td>\n",
       "      <td>7.235101<\/td>\n",
       "      <td>53.582074<\/td>\n",
       "      <td>1<\/td>\n",
       "    <\/tr>\n",
       "    <tr>\n",
       "      <th>280<\/th>\n",
       "      <td>83.679688<\/td>\n",
       "      <td>36.379281<\/td>\n",
       "      <td>0.572532<\/td>\n",
       "      <td>2.664611<\/td>\n",
       "      <td>4.040970<\/td>\n",
       "      <td>23.169129<\/td>\n",
       "      <td>7.006681<\/td>\n",
       "      <td>53.514005<\/td>\n",
       "      <td>0<\/td>\n",
       "    <\/tr>\n",
       "    <tr>\n",
       "      <th>342<\/th>\n",
       "      <td>84.039062<\/td>\n",
       "      <td>38.943951<\/td>\n",
       "      <td>0.668007<\/td>\n",
       "      <td>1.586058<\/td>\n",
       "      <td>1.793478<\/td>\n",
       "      <td>13.494579<\/td>\n",
       "      <td>11.433532<\/td>\n",
       "      <td>161.907833<\/td>\n",
       "      <td>0<\/td>\n",
       "    <\/tr>\n",
       "    <tr>\n",
       "      <th>385<\/th>\n",
       "      <td>84.273438<\/td>\n",
       "      <td>38.399975<\/td>\n",
       "      <td>0.662579<\/td>\n",
       "      <td>1.778425<\/td>\n",
       "      <td>2.984114<\/td>\n",
       "      <td>16.690291<\/td>\n",
       "      <td>8.407608<\/td>\n",
       "      <td>86.913036<\/td>\n",
       "      <td>0<\/td>\n",
       "    <\/tr>\n",
       "  <\/tbody>\n",
       "<\/table>\n",
       "<\/div>"
      ]
     },
     "metadata":{
      
     },
     "output_type":"display_data"
    }
   ],
   "metadata":{
    "datalore":{
     "node_id":"vbq72aENiddRG4ERRvouwe",
     "type":"CODE",
     "hide_input_from_viewers":true,
     "hide_output_from_viewers":true
    }
   }
  },
  {
   "cell_type":"markdown",
   "source":[
    "## 2. Perform a linear normalization of all predictor values in the obtained sample. In Azure ML Studio, specify the Transformation method — MinMax in the parameters of Normalize Data item.\n",
    "\n",
    "> Find the sample mean for the `MIP` column after the normalization:"
   ],
   "attachments":{
    
   },
   "metadata":{
    "datalore":{
     "node_id":"DBl4EMh13gzDqLfGueHZ0B",
     "type":"MD",
     "hide_input_from_viewers":true,
     "hide_output_from_viewers":true
    }
   }
  },
  {
   "cell_type":"code",
   "source":[
    "normalized_df = (sample_df - sample_df.min()) \/ (sample_df.max() - sample_df.min())\n",
    "normalized_df.head()"
   ],
   "execution_count":4,
   "outputs":[
    {
     "data":{
      "text\/html":[
       "<div>\n",
       "<style scoped>\n",
       "    .dataframe tbody tr th:only-of-type {\n",
       "        vertical-align: middle;\n",
       "    }\n",
       "\n",
       "    .dataframe tbody tr th {\n",
       "        vertical-align: top;\n",
       "    }\n",
       "\n",
       "    .dataframe thead th {\n",
       "        text-align: right;\n",
       "    }\n",
       "<\/style>\n",
       "<table border=\"1\" class=\"dataframe\">\n",
       "  <thead>\n",
       "    <tr style=\"text-align: right;\">\n",
       "      <th><\/th>\n",
       "      <th>MIP<\/th>\n",
       "      <th>STDIP<\/th>\n",
       "      <th>EKIP<\/th>\n",
       "      <th>SIP<\/th>\n",
       "      <th>MC<\/th>\n",
       "      <th>STDC<\/th>\n",
       "      <th>EKC<\/th>\n",
       "      <th>SC<\/th>\n",
       "      <th>TARGET<\/th>\n",
       "    <\/tr>\n",
       "  <\/thead>\n",
       "  <tbody>\n",
       "    <tr>\n",
       "      <th>187<\/th>\n",
       "      <td>0.186084<\/td>\n",
       "      <td>0.191667<\/td>\n",
       "      <td>0.453250<\/td>\n",
       "      <td>0.356576<\/td>\n",
       "      <td>0.033361<\/td>\n",
       "      <td>0.247052<\/td>\n",
       "      <td>0.285097<\/td>\n",
       "      <td>0.061703<\/td>\n",
       "      <td>1.0<\/td>\n",
       "    <\/tr>\n",
       "    <tr>\n",
       "      <th>190<\/th>\n",
       "      <td>0.919903<\/td>\n",
       "      <td>0.053336<\/td>\n",
       "      <td>0.486852<\/td>\n",
       "      <td>0.465047<\/td>\n",
       "      <td>0.020696<\/td>\n",
       "      <td>0.175490<\/td>\n",
       "      <td>0.336877<\/td>\n",
       "      <td>0.090023<\/td>\n",
       "      <td>1.0<\/td>\n",
       "    <\/tr>\n",
       "    <tr>\n",
       "      <th>280<\/th>\n",
       "      <td>0.076052<\/td>\n",
       "      <td>0.106541<\/td>\n",
       "      <td>0.108946<\/td>\n",
       "      <td>0.270927<\/td>\n",
       "      <td>0.022596<\/td>\n",
       "      <td>0.152646<\/td>\n",
       "      <td>0.327457<\/td>\n",
       "      <td>0.089913<\/td>\n",
       "      <td>0.0<\/td>\n",
       "    <\/tr>\n",
       "    <tr>\n",
       "      <th>342<\/th>\n",
       "      <td>0.113269<\/td>\n",
       "      <td>0.166718<\/td>\n",
       "      <td>0.150221<\/td>\n",
       "      <td>0.190422<\/td>\n",
       "      <td>0.008328<\/td>\n",
       "      <td>0.049772<\/td>\n",
       "      <td>0.510031<\/td>\n",
       "      <td>0.265987<\/td>\n",
       "      <td>0.0<\/td>\n",
       "    <\/tr>\n",
       "    <tr>\n",
       "      <th>385<\/th>\n",
       "      <td>0.137540<\/td>\n",
       "      <td>0.153954<\/td>\n",
       "      <td>0.147875<\/td>\n",
       "      <td>0.204781<\/td>\n",
       "      <td>0.015887<\/td>\n",
       "      <td>0.083754<\/td>\n",
       "      <td>0.385235<\/td>\n",
       "      <td>0.144166<\/td>\n",
       "      <td>0.0<\/td>\n",
       "    <\/tr>\n",
       "  <\/tbody>\n",
       "<\/table>\n",
       "<\/div>"
      ]
     },
     "metadata":{
      
     },
     "output_type":"display_data"
    }
   ],
   "metadata":{
    "datalore":{
     "node_id":"qhfKKm5r7cr7Z9faYUw6KO",
     "type":"CODE",
     "hide_input_from_viewers":true,
     "hide_output_from_viewers":true
    }
   }
  },
  {
   "cell_type":"code",
   "source":[
    "normalized_df.MIP.mean()"
   ],
   "execution_count":5,
   "outputs":[
    {
     "data":{
      "text\/plain":[
       "0.29451840815149477"
      ]
     },
     "metadata":{
      
     },
     "output_type":"display_data"
    }
   ],
   "metadata":{
    "datalore":{
     "node_id":"u37NKgwyXrGYmYxvDEPlt1",
     "type":"CODE",
     "hide_input_from_viewers":true,
     "hide_output_from_viewers":true
    }
   }
  },
  {
   "cell_type":"markdown",
   "source":[
    
   ],
   "attachments":{
    
   },
   "metadata":{
    "datalore":{
     "node_id":"10bUQkLeZWjpVjD0dsHZ0m",
     "type":"MD",
     "hide_input_from_viewers":true,
     "hide_output_from_viewers":true
    }
   }
  },
  {
   "cell_type":"code",
   "source":[
    "from sklearn.linear_model import LogisticRegression\n",
    "\n",
    "X = normalized_df.drop(columns=[\"TARGET\"])\n",
    "y = normalized_df[\"TARGET\"]\n",
    "\n",
    "clf = LogisticRegression(random_state=2019).fit(X, y)"
   ],
   "execution_count":6,
   "outputs":[
    
   ],
   "metadata":{
    "datalore":{
     "node_id":"I8kysSPsdDrZdmuj93vbgX",
     "type":"CODE",
     "hide_input_from_viewers":true,
     "hide_output_from_viewers":true
    }
   }
  },
  {
   "cell_type":"markdown",
   "source":[
    "## 4. Classify a new star with the parameters:\n",
    "```\n",
    "[0.337, 0.513, 0.425, 0.036, 0.928, 0.721, 0.714, 0.261]\n",
    "```\n",
    "\n",
    "Enter the the probability of assigning the star to the pulsar class:"
   ],
   "attachments":{
    
   },
   "metadata":{
    "datalore":{
     "node_id":"MOPe6EIVYWZQZhyuLnATVd",
     "type":"MD",
     "hide_input_from_viewers":true,
     "hide_output_from_viewers":true
    }
   }
  },
  {
   "cell_type":"code",
   "source":[
    "list(X.columns.values)"
   ],
   "execution_count":7,
   "outputs":[
    {
     "data":{
      "text\/plain":[
       "['MIP', 'STDIP', 'EKIP', 'SIP', 'MC', 'STDC', 'EKC', 'SC']"
      ]
     },
     "metadata":{
      
     },
     "output_type":"display_data"
    }
   ],
   "metadata":{
    "datalore":{
     "node_id":"KMeal8lkf21IhmpoWRY2Hr",
     "type":"CODE",
     "hide_input_from_viewers":true,
     "hide_output_from_viewers":true
    }
   }
  },
  {
   "cell_type":"code",
   "source":[
    "star_X = [0.337, 0.513, 0.425, 0.036, 0.928, 0.721, 0.714, 0.261]\n",
    "stars_df = pd.DataFrame(star_X).T\n",
    "# stars_df.head()\n",
    "\n",
    "# add columns\n",
    "stars_df.columns = list(X.columns.values)\n",
    "stars_df.head()"
   ],
   "execution_count":8,
   "outputs":[
    {
     "data":{
      "text\/html":[
       "<div>\n",
       "<style scoped>\n",
       "    .dataframe tbody tr th:only-of-type {\n",
       "        vertical-align: middle;\n",
       "    }\n",
       "\n",
       "    .dataframe tbody tr th {\n",
       "        vertical-align: top;\n",
       "    }\n",
       "\n",
       "    .dataframe thead th {\n",
       "        text-align: right;\n",
       "    }\n",
       "<\/style>\n",
       "<table border=\"1\" class=\"dataframe\">\n",
       "  <thead>\n",
       "    <tr style=\"text-align: right;\">\n",
       "      <th><\/th>\n",
       "      <th>MIP<\/th>\n",
       "      <th>STDIP<\/th>\n",
       "      <th>EKIP<\/th>\n",
       "      <th>SIP<\/th>\n",
       "      <th>MC<\/th>\n",
       "      <th>STDC<\/th>\n",
       "      <th>EKC<\/th>\n",
       "      <th>SC<\/th>\n",
       "    <\/tr>\n",
       "  <\/thead>\n",
       "  <tbody>\n",
       "    <tr>\n",
       "      <th>0<\/th>\n",
       "      <td>0.337<\/td>\n",
       "      <td>0.513<\/td>\n",
       "      <td>0.425<\/td>\n",
       "      <td>0.036<\/td>\n",
       "      <td>0.928<\/td>\n",
       "      <td>0.721<\/td>\n",
       "      <td>0.714<\/td>\n",
       "      <td>0.261<\/td>\n",
       "    <\/tr>\n",
       "  <\/tbody>\n",
       "<\/table>\n",
       "<\/div>"
      ]
     },
     "metadata":{
      
     },
     "output_type":"display_data"
    }
   ],
   "metadata":{
    "datalore":{
     "node_id":"rNkw0bHqZw3F3dyAcwI3LK",
     "type":"CODE",
     "hide_input_from_viewers":true,
     "hide_output_from_viewers":true
    }
   }
  },
  {
   "cell_type":"code",
   "source":[
    "# Probability pulsar class\n",
    "clf.predict_proba(stars_df)"
   ],
   "execution_count":9,
   "outputs":[
    {
     "data":{
      "text\/html":[
       "<pre>array([[0.38648584, 0.61351416]])<\/pre>"
      ]
     },
     "metadata":{
      
     },
     "output_type":"display_data"
    }
   ],
   "metadata":{
    "datalore":{
     "node_id":"QAiXhNoMuJzupgJdoIG6pZ",
     "type":"CODE",
     "hide_input_from_viewers":true,
     "hide_output_from_viewers":true
    }
   }
  },
  {
   "cell_type":"markdown",
   "source":[
    "## 5. Classify a new star using the -nearest neighbors algorithm (k-NN)."
   ],
   "attachments":{
    
   },
   "metadata":{
    "datalore":{
     "node_id":"DJsxBOspT7KSuIQrysK6V8",
     "type":"MD",
     "hide_input_from_viewers":true,
     "hide_output_from_viewers":true
    }
   }
  },
  {
   "cell_type":"code",
   "source":[
    "from sklearn.neighbors import NearestNeighbors\n",
    "import numpy as np\n",
    "\n",
    "# Instantiate and fit NearestNeighbors\n",
    "k = 1  # Number of nearest neighbors to consider\n",
    "nn = NearestNeighbors(n_neighbors=k, metric='euclidean')\n",
    "nn.fit(X)\n",
    "\n",
    "# Find distance to nearest neighbor\n",
    "distances, indices = nn.kneighbors(stars_df)\n",
    "nearest_distance = distances[0][0]\n",
    "\n",
    "print(f\"Distance to nearest neighbor: {nearest_distance}\")"
   ],
   "execution_count":13,
   "outputs":[
    {
     "name":"stdout",
     "text":[
      "Distance to nearest neighbor: 0.7828460858809096\n"
     ],
     "output_type":"stream"
    }
   ],
   "metadata":{
    "datalore":{
     "node_id":"DhxuFRMSqMqvuYQimjhdZm",
     "type":"CODE",
     "hide_input_from_viewers":true,
     "hide_output_from_viewers":true
    }
   }
  }
 ],
 "metadata":{
  "kernelspec":{
   "display_name":"Python",
   "language":"python",
   "name":"python"
  },
  "datalore":{
   "computation_mode":"JUPYTER",
   "package_manager":"pip",
   "base_environment":"default",
   "packages":[
    
   ],
   "report_row_ids":[
    
   ],
   "version":3
  }
 },
 "nbformat":4,
 "nbformat_minor":4
}