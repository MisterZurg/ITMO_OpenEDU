{
 "cells":[
  {
   "cell_type":"markdown",
   "source":[
    "# Exercise 9\n",
    "## 1. Select the abstract and concrete concepts (classes) in the statement “ITMO University is one of the universities of the Russian Federation”.\n",
    "\n",
    "\n",
    "-  ITMO University is an abstract class\n",
    "- ✅ **ITMO University is a concrete entity**\n",
    "- ✅ **University is an abstract class**\n",
    "- University is a concrete entity\n",
    "- The Russian Federation is an abstract class\n",
    "- ✅ **The Russian Federation is a concrete entity**\n",
    "- ✅ **University of the Russian Federation is an abstract class**\n",
    "- University of the Russian Federation is a concrete entity\n",
    "\n",
    "> верно"
   ],
   "attachments":{
    
   },
   "metadata":{
    "datalore":{
     "node_id":"ZszrxWM4bg2EmedznzmwxB",
     "type":"MD",
     "hide_input_from_viewers":true,
     "hide_output_from_viewers":true
    }
   }
  },
  {
   "cell_type":"markdown",
   "source":[
    "## 2. Select valid RDF triples:\n",
    "\n",
    "\n",
    "- ITMO University - 26.03.1900 - date of establishment\n",
    "- ✅ University - subclass - Educational Institution\n",
    "- located in - St. Petersburg - ITMO University\n",
    "- ✅ Knowledge Graphs - is - Course\n",
    "  \n",
    "> верно"
   ],
   "attachments":{
    
   },
   "metadata":{
    "datalore":{
     "node_id":"VPKq2ibQ8f8BS2KDk4fZoa",
     "type":"MD",
     "hide_input_from_viewers":true,
     "hide_output_from_viewers":true
    }
   }
  },
  {
   "cell_type":"markdown",
   "source":[
    "## 3. Assume that you have a simple graph: “University - subclass - Educational Institution”, “awards the Diploma of Higher Education - domain of definition - University”, “awards the Diploma of Higher Education - domain of values - boolean”, “ITMO University - an instance of a class - University”. What triples are true?\n",
    "\n",
    "- ✅ “ITMO University - an instance of a class - Educational Institution”\n",
    "- “Educational Institution - awards the Diploma of Higher Education - True”\n",
    "- “Educational Institution - an instance of a class - boolean”\n",
    "- ✅ “ITMO University - awards the Diploma of Higher Education - True”\n",
    "- “University - domain of values - boolean”\n",
    "  \n",
    "> верно"
   ],
   "attachments":{
    
   },
   "metadata":{
    "datalore":{
     "node_id":"CDS4RiTxJnZOp0YaIqU1mz",
     "type":"MD",
     "hide_input_from_viewers":true,
     "hide_output_from_viewers":true
    }
   }
  },
  {
   "cell_type":"markdown",
   "source":[
    "## 4. Let the entity “ITMO University” in a vector space be a vector `[0.11, 0.7, 0.65, 0.93, 0.28]`, and the predicate “located in the city” `[0.68, 0.4, 0.77, 0.13, 0.23]`. Compute the embedding of the triple “ITMO University - located in - St. Petersburg”.\n",
    "\n",
    "> Enter the solution in square brackets without spaces. Separate the values by a comma and use a period to separate the integer part from the fraction\/decimal part. "
   ],
   "attachments":{
    
   },
   "metadata":{
    "datalore":{
     "node_id":"jxGIDSv8AS7SWDUZyskTRg",
     "type":"MD",
     "hide_input_from_viewers":true,
     "hide_output_from_viewers":true
    }
   }
  },
  {
   "cell_type":"code",
   "source":[
    "ITMO_University = [0.11, 0.7, 0.65, 0.93, 0.28]\n",
    "located_in_the_city = [0.68, 0.4, 0.77, 0.13, 0.23]\n",
    "\n",
    "embedding = []\n",
    "for i in range(0, len(ITMO_University)):\n",
    "    embedding.append(ITMO_University[i] + located_in_the_city[i])\n",
    "\n",
    "print(embedding)"
   ],
   "execution_count":4,
   "outputs":[
    {
     "name":"stdout",
     "text":[
      "[0.79, 1.1, 1.42, 1.06, 0.51]\n"
     ],
     "output_type":"stream"
    }
   ],
   "metadata":{
    "datalore":{
     "node_id":"wTvCQIDFBGA9vKpKq0ZBI2",
     "type":"CODE",
     "hide_input_from_viewers":true,
     "hide_output_from_viewers":true
    }
   }
  },
  {
   "cell_type":"markdown",
   "source":[
    "5. Use [metaphactory](), to create a knowledge graph for the entity: Eddie Van Halen (person: **Q272012**). Similar information can be found in text form on the portal Wikidata. For the given predicates, enter one of the values of the entity (if there are many). If no predicate is available, field with a minus sign (dash) -.\n",
    "\n",
    "Predicates:\n",
    "- ✅ educated at:\n",
    "  Pasadena City College\n",
    "   \n",
    "- ✅ place of birth:\n",
    "  Amsterdam\n",
    "\n",
    "- ✅ occupation: composer\n",
    " \n",
    "- ✅ award received: -"
   ],
   "attachments":{
    
   },
   "metadata":{
    "datalore":{
     "node_id":"ZvKshIyLRAAxof7N89AXpD",
     "type":"MD",
     "hide_input_from_viewers":true,
     "hide_output_from_viewers":true
    }
   }
  }
 ],
 "metadata":{
  "kernelspec":{
   "display_name":"Python",
   "language":"python",
   "name":"python"
  },
  "datalore":{
   "computation_mode":"JUPYTER",
   "package_manager":"pip",
   "base_environment":"default",
   "packages":[
    
   ],
   "report_row_ids":[
    
   ],
   "version":3
  }
 },
 "nbformat":4,
 "nbformat_minor":4
}