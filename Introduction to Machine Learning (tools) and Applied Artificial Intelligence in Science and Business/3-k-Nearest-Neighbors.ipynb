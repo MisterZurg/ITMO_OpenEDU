{
 "cells":[
  {
   "cell_type":"code",
   "source":[
    "import pandas as pd\n",
    "import numpy as np\n",
    "\n",
    "from sklearn.neighbors import NearestNeighbors, KNeighborsClassifier"
   ],
   "execution_count":1,
   "outputs":[
    
   ],
   "metadata":{
    "datalore":{
     "node_id":"HC59u5lmayGkxJHSs8UN97",
     "type":"CODE",
     "hide_input_from_viewers":true,
     "hide_output_from_viewers":true
    }
   }
  },
  {
   "cell_type":"markdown",
   "source":[
    "# Exercise 3"
   ],
   "attachments":{
    
   },
   "metadata":{
    "datalore":{
     "node_id":"zg26o7L7MAlVFErXZrJVqX",
     "type":"MD",
     "hide_input_from_viewers":true,
     "hide_output_from_viewers":true
    }
   }
  },
  {
   "cell_type":"code",
   "source":[
    "from io import StringIO\n",
    "TESTDATA = StringIO(\n",
    "    \"\"\"\n",
    "    id,X,Y,Class\n",
    "    1,52,69,0\n",
    "    2,69,22,0\n",
    "    3,10,43,1\n",
    "    4,34,82,0\n",
    "    5,72,64,0\n",
    "    6,60,69,1\n",
    "    7,23,49,1\n",
    "    8,24,91,0\n",
    "    9,15,83,1\n",
    "    10,16,71,1\n",
    "    \"\"\"\n",
    ")\n",
    "\n",
    "df = pd.read_csv(TESTDATA, sep=\",\")"
   ],
   "execution_count":2,
   "outputs":[
    
   ],
   "metadata":{
    "datalore":{
     "node_id":"Cs2ma5Tnq4RIvulQaTAWT1",
     "type":"CODE",
     "hide_input_from_viewers":true,
     "hide_output_from_viewers":true
    }
   }
  },
  {
   "cell_type":"code",
   "source":[
    "df"
   ],
   "execution_count":3,
   "outputs":[
    {
     "data":{
      "text\/html":[
       "<div>\n",
       "<style scoped>\n",
       "    .dataframe tbody tr th:only-of-type {\n",
       "        vertical-align: middle;\n",
       "    }\n",
       "\n",
       "    .dataframe tbody tr th {\n",
       "        vertical-align: top;\n",
       "    }\n",
       "\n",
       "    .dataframe thead th {\n",
       "        text-align: right;\n",
       "    }\n",
       "<\/style>\n",
       "<table border=\"1\" class=\"dataframe\">\n",
       "  <thead>\n",
       "    <tr style=\"text-align: right;\">\n",
       "      <th><\/th>\n",
       "      <th>id<\/th>\n",
       "      <th>X<\/th>\n",
       "      <th>Y<\/th>\n",
       "      <th>Class<\/th>\n",
       "    <\/tr>\n",
       "  <\/thead>\n",
       "  <tbody>\n",
       "    <tr>\n",
       "      <th>0<\/th>\n",
       "      <td>1<\/td>\n",
       "      <td>52<\/td>\n",
       "      <td>69<\/td>\n",
       "      <td>0<\/td>\n",
       "    <\/tr>\n",
       "    <tr>\n",
       "      <th>1<\/th>\n",
       "      <td>2<\/td>\n",
       "      <td>69<\/td>\n",
       "      <td>22<\/td>\n",
       "      <td>0<\/td>\n",
       "    <\/tr>\n",
       "    <tr>\n",
       "      <th>2<\/th>\n",
       "      <td>3<\/td>\n",
       "      <td>10<\/td>\n",
       "      <td>43<\/td>\n",
       "      <td>1<\/td>\n",
       "    <\/tr>\n",
       "    <tr>\n",
       "      <th>3<\/th>\n",
       "      <td>4<\/td>\n",
       "      <td>34<\/td>\n",
       "      <td>82<\/td>\n",
       "      <td>0<\/td>\n",
       "    <\/tr>\n",
       "    <tr>\n",
       "      <th>4<\/th>\n",
       "      <td>5<\/td>\n",
       "      <td>72<\/td>\n",
       "      <td>64<\/td>\n",
       "      <td>0<\/td>\n",
       "    <\/tr>\n",
       "    <tr>\n",
       "      <th>5<\/th>\n",
       "      <td>6<\/td>\n",
       "      <td>60<\/td>\n",
       "      <td>69<\/td>\n",
       "      <td>1<\/td>\n",
       "    <\/tr>\n",
       "    <tr>\n",
       "      <th>6<\/th>\n",
       "      <td>7<\/td>\n",
       "      <td>23<\/td>\n",
       "      <td>49<\/td>\n",
       "      <td>1<\/td>\n",
       "    <\/tr>\n",
       "    <tr>\n",
       "      <th>7<\/th>\n",
       "      <td>8<\/td>\n",
       "      <td>24<\/td>\n",
       "      <td>91<\/td>\n",
       "      <td>0<\/td>\n",
       "    <\/tr>\n",
       "    <tr>\n",
       "      <th>8<\/th>\n",
       "      <td>9<\/td>\n",
       "      <td>15<\/td>\n",
       "      <td>83<\/td>\n",
       "      <td>1<\/td>\n",
       "    <\/tr>\n",
       "    <tr>\n",
       "      <th>9<\/th>\n",
       "      <td>10<\/td>\n",
       "      <td>16<\/td>\n",
       "      <td>71<\/td>\n",
       "      <td>1<\/td>\n",
       "    <\/tr>\n",
       "  <\/tbody>\n",
       "<\/table>\n",
       "<\/div>"
      ]
     },
     "metadata":{
      
     },
     "output_type":"display_data"
    }
   ],
   "metadata":{
    "datalore":{
     "node_id":"EfVdgtXmwwtGrVpo5HrEsz",
     "type":"CODE",
     "hide_input_from_viewers":true,
     "hide_output_from_viewers":true
    }
   }
  },
  {
   "cell_type":"code",
   "source":[
    "OBJECT_COORDINATES = [20, 48]"
   ],
   "execution_count":4,
   "outputs":[
    
   ],
   "metadata":{
    "datalore":{
     "node_id":"K0BamuscnXbppgWgqkFoqD",
     "type":"CODE",
     "hide_input_from_viewers":true,
     "hide_output_from_viewers":true
    }
   }
  },
  {
   "cell_type":"code",
   "source":[
    "df[\"Euclidean\"] = np.sqrt(\n",
    "    np.power(df.X - OBJECT_COORDINATES[0], 2) +\n",
    "    np.power(df.Y - OBJECT_COORDINATES[1], 2)\n",
    ")\n",
    "\n",
    "df"
   ],
   "execution_count":5,
   "outputs":[
    {
     "data":{
      "text\/html":[
       "<div>\n",
       "<style scoped>\n",
       "    .dataframe tbody tr th:only-of-type {\n",
       "        vertical-align: middle;\n",
       "    }\n",
       "\n",
       "    .dataframe tbody tr th {\n",
       "        vertical-align: top;\n",
       "    }\n",
       "\n",
       "    .dataframe thead th {\n",
       "        text-align: right;\n",
       "    }\n",
       "<\/style>\n",
       "<table border=\"1\" class=\"dataframe\">\n",
       "  <thead>\n",
       "    <tr style=\"text-align: right;\">\n",
       "      <th><\/th>\n",
       "      <th>id<\/th>\n",
       "      <th>X<\/th>\n",
       "      <th>Y<\/th>\n",
       "      <th>Class<\/th>\n",
       "      <th>Euclidean<\/th>\n",
       "    <\/tr>\n",
       "  <\/thead>\n",
       "  <tbody>\n",
       "    <tr>\n",
       "      <th>0<\/th>\n",
       "      <td>1<\/td>\n",
       "      <td>52<\/td>\n",
       "      <td>69<\/td>\n",
       "      <td>0<\/td>\n",
       "      <td>38.275318<\/td>\n",
       "    <\/tr>\n",
       "    <tr>\n",
       "      <th>1<\/th>\n",
       "      <td>2<\/td>\n",
       "      <td>69<\/td>\n",
       "      <td>22<\/td>\n",
       "      <td>0<\/td>\n",
       "      <td>55.470713<\/td>\n",
       "    <\/tr>\n",
       "    <tr>\n",
       "      <th>2<\/th>\n",
       "      <td>3<\/td>\n",
       "      <td>10<\/td>\n",
       "      <td>43<\/td>\n",
       "      <td>1<\/td>\n",
       "      <td>11.180340<\/td>\n",
       "    <\/tr>\n",
       "    <tr>\n",
       "      <th>3<\/th>\n",
       "      <td>4<\/td>\n",
       "      <td>34<\/td>\n",
       "      <td>82<\/td>\n",
       "      <td>0<\/td>\n",
       "      <td>36.769553<\/td>\n",
       "    <\/tr>\n",
       "    <tr>\n",
       "      <th>4<\/th>\n",
       "      <td>5<\/td>\n",
       "      <td>72<\/td>\n",
       "      <td>64<\/td>\n",
       "      <td>0<\/td>\n",
       "      <td>54.405882<\/td>\n",
       "    <\/tr>\n",
       "    <tr>\n",
       "      <th>5<\/th>\n",
       "      <td>6<\/td>\n",
       "      <td>60<\/td>\n",
       "      <td>69<\/td>\n",
       "      <td>1<\/td>\n",
       "      <td>45.177428<\/td>\n",
       "    <\/tr>\n",
       "    <tr>\n",
       "      <th>6<\/th>\n",
       "      <td>7<\/td>\n",
       "      <td>23<\/td>\n",
       "      <td>49<\/td>\n",
       "      <td>1<\/td>\n",
       "      <td>3.162278<\/td>\n",
       "    <\/tr>\n",
       "    <tr>\n",
       "      <th>7<\/th>\n",
       "      <td>8<\/td>\n",
       "      <td>24<\/td>\n",
       "      <td>91<\/td>\n",
       "      <td>0<\/td>\n",
       "      <td>43.185646<\/td>\n",
       "    <\/tr>\n",
       "    <tr>\n",
       "      <th>8<\/th>\n",
       "      <td>9<\/td>\n",
       "      <td>15<\/td>\n",
       "      <td>83<\/td>\n",
       "      <td>1<\/td>\n",
       "      <td>35.355339<\/td>\n",
       "    <\/tr>\n",
       "    <tr>\n",
       "      <th>9<\/th>\n",
       "      <td>10<\/td>\n",
       "      <td>16<\/td>\n",
       "      <td>71<\/td>\n",
       "      <td>1<\/td>\n",
       "      <td>23.345235<\/td>\n",
       "    <\/tr>\n",
       "  <\/tbody>\n",
       "<\/table>\n",
       "<\/div>"
      ]
     },
     "metadata":{
      
     },
     "output_type":"display_data"
    }
   ],
   "metadata":{
    "datalore":{
     "node_id":"hM7l0Xy3d15q7m1JO0VGL7",
     "type":"CODE",
     "hide_input_from_viewers":true,
     "hide_output_from_viewers":true
    }
   }
  },
  {
   "cell_type":"code",
   "source":[
    "coordinates = df[[\"X\", \"Y\"]]"
   ],
   "execution_count":6,
   "outputs":[
    
   ],
   "metadata":{
    "datalore":{
     "node_id":"JnyZqxct3k4ETvUKas8CXb",
     "type":"CODE",
     "hide_input_from_viewers":true,
     "hide_output_from_viewers":true
    }
   }
  },
  {
   "cell_type":"markdown",
   "source":[
    "Enter the distance from the new object with coordinates $(20, 48)$  to the nearest neighbor using the Euclidean metric."
   ],
   "attachments":{
    
   },
   "metadata":{
    "datalore":{
     "node_id":"qzWhYYdtfebstDQMITVBKc",
     "type":"MD",
     "hide_input_from_viewers":true,
     "hide_output_from_viewers":true
    }
   }
  },
  {
   "cell_type":"code",
   "source":[
    "neighbours_Euclidian = NearestNeighbors(metric=\"euclidean\")\n",
    "neighbours_Euclidian.fit(coordinates)"
   ],
   "execution_count":7,
   "outputs":[
    {
     "data":{
      "text\/plain":[
       "NearestNeighbors(metric='euclidean')"
      ]
     },
     "metadata":{
      
     },
     "output_type":"display_data"
    }
   ],
   "metadata":{
    "datalore":{
     "node_id":"rfQVWhbjae2fTMlMqSEZcM",
     "type":"CODE",
     "hide_input_from_viewers":true,
     "hide_output_from_viewers":true
    }
   }
  },
  {
   "cell_type":"code",
   "source":[
    "distancesEcl, idsEcl = neighbours_Euclidian.kneighbors([OBJECT_COORDINATES])"
   ],
   "execution_count":8,
   "outputs":[
    {
     "name":"stderr",
     "text":[
      "\/opt\/python\/envs\/default\/lib\/python3.8\/site-packages\/sklearn\/base.py:445: UserWarning: X does not have valid feature names, but NearestNeighbors was fitted with feature names\n",
      "  warnings.warn(\n"
     ],
     "output_type":"stream"
    }
   ],
   "metadata":{
    "datalore":{
     "node_id":"WnKaMQFxN5zKtL0f6w01qr",
     "type":"CODE",
     "hide_input_from_viewers":true,
     "hide_output_from_viewers":true
    }
   }
  },
  {
   "cell_type":"code",
   "source":[
    "print(f\"Nearest neighbor using the Euclidean metric = {distancesEcl[0][0]}\")"
   ],
   "execution_count":11,
   "outputs":[
    {
     "name":"stdout",
     "text":[
      "Nearest neighbor using the Euclidean metric. = 3.1622776601683795\n"
     ],
     "output_type":"stream"
    }
   ],
   "metadata":{
    "datalore":{
     "node_id":"0LLBK6CTcKjSakwKn6wLDF",
     "type":"CODE",
     "hide_input_from_viewers":true,
     "hide_output_from_viewers":true
    }
   }
  },
  {
   "cell_type":"markdown",
   "source":[
    "Enter the id of the three nearest points to $(20, 48)$ for the Euclidean metric."
   ],
   "attachments":{
    
   },
   "metadata":{
    "datalore":{
     "node_id":"Q5LNUTgwuBFAswlKR1d2Pc",
     "type":"MD",
     "hide_input_from_viewers":true,
     "hide_output_from_viewers":true
    }
   }
  },
  {
   "cell_type":"code",
   "source":[
    "print(f\"Eucledean IDs = {idsEcl[0][0] + 1, idsEcl[0][1] + 1, idsEcl[0][2] + 1}\")"
   ],
   "execution_count":12,
   "outputs":[
    {
     "name":"stdout",
     "text":[
      "Eucledean IDs = (7, 3, 10)\n"
     ],
     "output_type":"stream"
    }
   ],
   "metadata":{
    "datalore":{
     "node_id":"noskXd1KCVct7UUwkoPQWQ",
     "type":"CODE",
     "hide_input_from_viewers":true,
     "hide_output_from_viewers":true
    }
   }
  },
  {
   "cell_type":"markdown",
   "source":[
    "Enter the id of the three nearest points to $(20, 48)$ given $k = 3$ for the Euclidean metric.\n",
    "> Enter class 0 or 1."
   ],
   "attachments":{
    
   },
   "metadata":{
    "datalore":{
     "node_id":"TXve6Fmdn3hRemkpkj3zm3",
     "type":"MD",
     "hide_input_from_viewers":true,
     "hide_output_from_viewers":true
    }
   }
  },
  {
   "cell_type":"code",
   "source":[
    "X = coordinates\n",
    "y = df[[\"Class\"]]\n",
    "\n",
    "neigh = KNeighborsClassifier(n_neighbors=3, metric=\"euclidean\")\n",
    "neigh.fit(X, y)\n",
    "\n",
    "print(f\"Predicted class {neigh.predict([OBJECT_COORDINATES])} using Euclidean metric\")"
   ],
   "execution_count":13,
   "outputs":[
    {
     "name":"stdout",
     "text":[
      "Predicted class [1] using Euclidean metric\n"
     ],
     "output_type":"stream"
    },
    {
     "name":"stderr",
     "text":[
      "\/opt\/python\/envs\/default\/lib\/python3.8\/site-packages\/sklearn\/neighbors\/_classification.py:198: DataConversionWarning: A column-vector y was passed when a 1d array was expected. Please change the shape of y to (n_samples,), for example using ravel().\n",
      "  return self._fit(X, y)\n",
      "\/opt\/python\/envs\/default\/lib\/python3.8\/site-packages\/sklearn\/base.py:445: UserWarning: X does not have valid feature names, but KNeighborsClassifier was fitted with feature names\n",
      "  warnings.warn(\n",
      "\/opt\/python\/envs\/default\/lib\/python3.8\/site-packages\/sklearn\/neighbors\/_classification.py:228: FutureWarning: Unlike other reduction functions (e.g. `skew`, `kurtosis`), the default behavior of `mode` typically preserves the axis it acts along. In SciPy 1.11.0, this behavior will change: the default value of `keepdims` will become False, the `axis` over which the statistic is taken will be eliminated, and the value None will no longer be accepted. Set `keepdims` to True or False to avoid this warning.\n",
      "  mode, _ = stats.mode(_y[neigh_ind, k], axis=1)\n"
     ],
     "output_type":"stream"
    }
   ],
   "metadata":{
    "datalore":{
     "node_id":"Ezxr7j3iqoXyYkx59LdXKL",
     "type":"CODE",
     "hide_input_from_viewers":true,
     "hide_output_from_viewers":true
    }
   }
  },
  {
   "cell_type":"markdown",
   "source":[
    "Enter the distance from the new object with coordinates $(20, 48)$ to the nearest neighbor using the Manhattan distance."
   ],
   "attachments":{
    
   },
   "metadata":{
    "datalore":{
     "node_id":"T08cRn2ngjzc31qdcHDF6y",
     "type":"MD",
     "hide_input_from_viewers":true,
     "hide_output_from_viewers":true
    }
   }
  },
  {
   "cell_type":"code",
   "source":[
    "df[\"Manhattan\"] = \\\n",
    "    np.abs(df.X - OBJECT_COORDINATES[0]) + \\\n",
    "    np.abs(df.Y - OBJECT_COORDINATES[1])\n",
    "df"
   ],
   "execution_count":14,
   "outputs":[
    {
     "data":{
      "text\/html":[
       "<div>\n",
       "<style scoped>\n",
       "    .dataframe tbody tr th:only-of-type {\n",
       "        vertical-align: middle;\n",
       "    }\n",
       "\n",
       "    .dataframe tbody tr th {\n",
       "        vertical-align: top;\n",
       "    }\n",
       "\n",
       "    .dataframe thead th {\n",
       "        text-align: right;\n",
       "    }\n",
       "<\/style>\n",
       "<table border=\"1\" class=\"dataframe\">\n",
       "  <thead>\n",
       "    <tr style=\"text-align: right;\">\n",
       "      <th><\/th>\n",
       "      <th>id<\/th>\n",
       "      <th>X<\/th>\n",
       "      <th>Y<\/th>\n",
       "      <th>Class<\/th>\n",
       "      <th>Euclidean<\/th>\n",
       "      <th>Manhattan<\/th>\n",
       "    <\/tr>\n",
       "  <\/thead>\n",
       "  <tbody>\n",
       "    <tr>\n",
       "      <th>0<\/th>\n",
       "      <td>1<\/td>\n",
       "      <td>52<\/td>\n",
       "      <td>69<\/td>\n",
       "      <td>0<\/td>\n",
       "      <td>38.275318<\/td>\n",
       "      <td>53<\/td>\n",
       "    <\/tr>\n",
       "    <tr>\n",
       "      <th>1<\/th>\n",
       "      <td>2<\/td>\n",
       "      <td>69<\/td>\n",
       "      <td>22<\/td>\n",
       "      <td>0<\/td>\n",
       "      <td>55.470713<\/td>\n",
       "      <td>75<\/td>\n",
       "    <\/tr>\n",
       "    <tr>\n",
       "      <th>2<\/th>\n",
       "      <td>3<\/td>\n",
       "      <td>10<\/td>\n",
       "      <td>43<\/td>\n",
       "      <td>1<\/td>\n",
       "      <td>11.180340<\/td>\n",
       "      <td>15<\/td>\n",
       "    <\/tr>\n",
       "    <tr>\n",
       "      <th>3<\/th>\n",
       "      <td>4<\/td>\n",
       "      <td>34<\/td>\n",
       "      <td>82<\/td>\n",
       "      <td>0<\/td>\n",
       "      <td>36.769553<\/td>\n",
       "      <td>48<\/td>\n",
       "    <\/tr>\n",
       "    <tr>\n",
       "      <th>4<\/th>\n",
       "      <td>5<\/td>\n",
       "      <td>72<\/td>\n",
       "      <td>64<\/td>\n",
       "      <td>0<\/td>\n",
       "      <td>54.405882<\/td>\n",
       "      <td>68<\/td>\n",
       "    <\/tr>\n",
       "    <tr>\n",
       "      <th>5<\/th>\n",
       "      <td>6<\/td>\n",
       "      <td>60<\/td>\n",
       "      <td>69<\/td>\n",
       "      <td>1<\/td>\n",
       "      <td>45.177428<\/td>\n",
       "      <td>61<\/td>\n",
       "    <\/tr>\n",
       "    <tr>\n",
       "      <th>6<\/th>\n",
       "      <td>7<\/td>\n",
       "      <td>23<\/td>\n",
       "      <td>49<\/td>\n",
       "      <td>1<\/td>\n",
       "      <td>3.162278<\/td>\n",
       "      <td>4<\/td>\n",
       "    <\/tr>\n",
       "    <tr>\n",
       "      <th>7<\/th>\n",
       "      <td>8<\/td>\n",
       "      <td>24<\/td>\n",
       "      <td>91<\/td>\n",
       "      <td>0<\/td>\n",
       "      <td>43.185646<\/td>\n",
       "      <td>47<\/td>\n",
       "    <\/tr>\n",
       "    <tr>\n",
       "      <th>8<\/th>\n",
       "      <td>9<\/td>\n",
       "      <td>15<\/td>\n",
       "      <td>83<\/td>\n",
       "      <td>1<\/td>\n",
       "      <td>35.355339<\/td>\n",
       "      <td>40<\/td>\n",
       "    <\/tr>\n",
       "    <tr>\n",
       "      <th>9<\/th>\n",
       "      <td>10<\/td>\n",
       "      <td>16<\/td>\n",
       "      <td>71<\/td>\n",
       "      <td>1<\/td>\n",
       "      <td>23.345235<\/td>\n",
       "      <td>27<\/td>\n",
       "    <\/tr>\n",
       "  <\/tbody>\n",
       "<\/table>\n",
       "<\/div>"
      ]
     },
     "metadata":{
      
     },
     "output_type":"display_data"
    }
   ],
   "metadata":{
    "datalore":{
     "node_id":"ibTlLYGtBonT1hvZra4fUV",
     "type":"CODE",
     "hide_input_from_viewers":true,
     "hide_output_from_viewers":true
    }
   }
  },
  {
   "cell_type":"code",
   "source":[
    "neighbours_Manhattan = NearestNeighbors(metric=\"manhattan\")\n",
    "neighbours_Manhattan.fit(coordinates)"
   ],
   "execution_count":16,
   "outputs":[
    {
     "data":{
      "text\/plain":[
       "NearestNeighbors(metric='manhattan')"
      ]
     },
     "metadata":{
      
     },
     "output_type":"display_data"
    }
   ],
   "metadata":{
    "datalore":{
     "node_id":"dESnUsw84ETdReJLOAyi6e",
     "type":"CODE",
     "hide_input_from_viewers":true,
     "hide_output_from_viewers":true
    }
   }
  },
  {
   "cell_type":"code",
   "source":[
    "distancesMnh, idsMnh = neighbours_Manhattan.kneighbors([OBJECT_COORDINATES])"
   ],
   "execution_count":17,
   "outputs":[
    {
     "name":"stderr",
     "text":[
      "\/opt\/python\/envs\/default\/lib\/python3.8\/site-packages\/sklearn\/base.py:445: UserWarning: X does not have valid feature names, but NearestNeighbors was fitted with feature names\n",
      "  warnings.warn(\n"
     ],
     "output_type":"stream"
    }
   ],
   "metadata":{
    "datalore":{
     "node_id":"hvwvanpitQC335Cw8LjtGZ",
     "type":"CODE",
     "hide_input_from_viewers":true,
     "hide_output_from_viewers":true
    }
   }
  },
  {
   "cell_type":"code",
   "source":[
    "print(f\"Nearest neighbor using the Manhattan metric = {distancesMnh[0][0]}\")"
   ],
   "execution_count":18,
   "outputs":[
    {
     "name":"stdout",
     "text":[
      "Nearest neighbor using the Manhattan metric = 4.0\n"
     ],
     "output_type":"stream"
    }
   ],
   "metadata":{
    "datalore":{
     "node_id":"cHlRoEsLsvEUbFuBnfPPaB",
     "type":"CODE",
     "hide_input_from_viewers":true,
     "hide_output_from_viewers":true
    }
   }
  },
  {
   "cell_type":"markdown",
   "source":[
    "Enter the id of the three nearest points to $(20, 48)$ for the Manhattan distance."
   ],
   "attachments":{
    
   },
   "metadata":{
    "datalore":{
     "node_id":"R5nhsIjW05VPgeA5FzQCCY",
     "type":"MD",
     "hide_input_from_viewers":true,
     "hide_output_from_viewers":true
    }
   }
  },
  {
   "cell_type":"code",
   "source":[
    "print(f\"Manhattan IDs = {idsMnh[0][0] + 1, idsMnh[0][1] + 1, idsMnh[0][2] + 1}\")"
   ],
   "execution_count":19,
   "outputs":[
    {
     "name":"stdout",
     "text":[
      "Manhattan IDs = (7, 3, 10)\n"
     ],
     "output_type":"stream"
    }
   ],
   "metadata":{
    "datalore":{
     "node_id":"d0aKExTSN8VXp6C4FSDcFi",
     "type":"CODE",
     "hide_input_from_viewers":true,
     "hide_output_from_viewers":true
    }
   }
  },
  {
   "cell_type":"markdown",
   "source":[
    "Enter a class for the new object with coordinates $(20, 48)$ given $k = 3$ for the Manhattan distance."
   ],
   "attachments":{
    
   },
   "metadata":{
    "datalore":{
     "node_id":"CRdNgabIsERFoGkw9av6OA",
     "type":"MD",
     "hide_input_from_viewers":true,
     "hide_output_from_viewers":true
    }
   }
  },
  {
   "cell_type":"code",
   "source":[
    "X = coordinates\n",
    "y = df[[\"Class\"]]\n",
    "\n",
    "neigh_Manhattan = KNeighborsClassifier(n_neighbors=3, metric=\"manhattan\")\n",
    "neigh_Manhattan.fit(X, y)\n",
    "print(f\"Predicted class {neigh_Manhattan.predict([OBJECT_COORDINATES])} using Euclidean metric\")"
   ],
   "execution_count":20,
   "outputs":[
    {
     "name":"stdout",
     "text":[
      "Predicted class [1] using Euclidean metric\n"
     ],
     "output_type":"stream"
    },
    {
     "name":"stderr",
     "text":[
      "\/opt\/python\/envs\/default\/lib\/python3.8\/site-packages\/sklearn\/neighbors\/_classification.py:198: DataConversionWarning: A column-vector y was passed when a 1d array was expected. Please change the shape of y to (n_samples,), for example using ravel().\n",
      "  return self._fit(X, y)\n",
      "\/opt\/python\/envs\/default\/lib\/python3.8\/site-packages\/sklearn\/base.py:445: UserWarning: X does not have valid feature names, but KNeighborsClassifier was fitted with feature names\n",
      "  warnings.warn(\n",
      "\/opt\/python\/envs\/default\/lib\/python3.8\/site-packages\/sklearn\/neighbors\/_classification.py:228: FutureWarning: Unlike other reduction functions (e.g. `skew`, `kurtosis`), the default behavior of `mode` typically preserves the axis it acts along. In SciPy 1.11.0, this behavior will change: the default value of `keepdims` will become False, the `axis` over which the statistic is taken will be eliminated, and the value None will no longer be accepted. Set `keepdims` to True or False to avoid this warning.\n",
      "  mode, _ = stats.mode(_y[neigh_ind, k], axis=1)\n"
     ],
     "output_type":"stream"
    }
   ],
   "metadata":{
    "datalore":{
     "node_id":"VsGaz76lg9ytA75cCXyw7m",
     "type":"CODE",
     "hide_input_from_viewers":true,
     "hide_output_from_viewers":true
    }
   }
  },
  {
   "cell_type":"code",
   "source":[
    
   ],
   "execution_count":null,
   "outputs":[
    
   ],
   "metadata":{
    "datalore":{
     "node_id":"XfE7mXpBaOMuT3Bkc1NMHA",
     "type":"CODE",
     "hide_input_from_viewers":true,
     "hide_output_from_viewers":true
    }
   }
  }
 ],
 "metadata":{
  "kernelspec":{
   "display_name":"Python",
   "language":"python",
   "name":"python"
  },
  "datalore":{
   "computation_mode":"JUPYTER",
   "package_manager":"pip",
   "base_environment":"default",
   "packages":[
    
   ],
   "report_row_ids":[
    
   ],
   "version":3
  }
 },
 "nbformat":4,
 "nbformat_minor":4
}