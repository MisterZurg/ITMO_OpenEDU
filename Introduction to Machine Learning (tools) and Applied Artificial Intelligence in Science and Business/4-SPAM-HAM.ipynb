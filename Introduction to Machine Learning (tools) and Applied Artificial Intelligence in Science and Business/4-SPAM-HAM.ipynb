{
 "cells":[
  {
   "cell_type":"code",
   "source":[
    "import numpy as np"
   ],
   "execution_count":3,
   "outputs":[
    
   ],
   "metadata":{
    "datalore":{
     "node_id":"0SL8o6fBPNX8eQsQrdQof0",
     "type":"CODE",
     "hide_input_from_viewers":true,
     "hide_output_from_viewers":true
    }
   }
  },
  {
   "cell_type":"markdown",
   "source":[
    "# Exercise 4 - Classifiers: Naive Bayes\n",
    "\n",
    "Table contains data about the classification of emails into SPAM and HAM and the total number of words included in these groups:\n",
    "\n",
    "||SPAM|HAM|\n",
    "|:----:|:----:|:----:|\n",
    "|Emails|21|19|\t\t\n",
    "|Words|124|77|\n",
    "\n",
    "\n",
    "Second table shows data about unique words and number of their occurrences in the aforementioned groups:\n",
    "||SPAM|HAM|\n",
    "|:----:|:----:|:----:|\n",
    "|Gift  |  6  |      8|\t\t\n",
    "|Coupon\t|0|3     |\n",
    "|Access |4|1|\t\t\n",
    "|Free\t\t|6|1|\n",
    "|Offer\t\t|5|11|\n",
    "|Bonus\t\t|12|11|\n",
    "|Purchase\t\t|5|1|\n",
    "|Refund\t\t|9|10|\n",
    "|Unlimited\t\t|22|19|\n",
    "|Online\t\t|55|12|\n",
    "\n",
    "\n",
    "Identify the most probable class of the email containing the following text:\n",
    "\n",
    "`Online Offer Access Free Unlimited Remove Prize`\n"
   ],
   "attachments":{
    
   },
   "metadata":{
    "datalore":{
     "node_id":"V9KO2ubJIUGj4yebeny448",
     "type":"MD",
     "hide_input_from_viewers":true,
     "hide_output_from_viewers":true
    }
   }
  },
  {
   "cell_type":"code",
   "source":[
    "SPAM_EMAILS = 21\n",
    "HAM_EMAILS = 19\n",
    "WORDS_IN_DICT = 10"
   ],
   "execution_count":4,
   "outputs":[
    
   ],
   "metadata":{
    "datalore":{
     "node_id":"euYR6MJXoSJMlmtBCVshY9",
     "type":"CODE",
     "hide_input_from_viewers":true,
     "hide_output_from_viewers":true
    }
   }
  },
  {
   "cell_type":"markdown",
   "source":[
    "Specify the probability that the email is SPAM based on the training set:"
   ],
   "attachments":{
    
   },
   "metadata":{
    "datalore":{
     "node_id":"T23qa10ty4ThsvAxGYcxgE",
     "type":"MD",
     "hide_input_from_viewers":true,
     "hide_output_from_viewers":true
    }
   }
  },
  {
   "cell_type":"code",
   "source":[
    "P_Spam = SPAM_EMAILS \/ (SPAM_EMAILS + HAM_EMAILS)\n",
    "print(f\"P(spam)={P_Spam}\")"
   ],
   "execution_count":5,
   "outputs":[
    {
     "name":"stdout",
     "text":[
      "P(spam)=0.525\n"
     ],
     "output_type":"stream"
    }
   ],
   "metadata":{
    "datalore":{
     "node_id":"8lGdPUHlocKUEWGdwVta5J",
     "type":"CODE",
     "hide_input_from_viewers":true,
     "hide_output_from_viewers":true
    }
   }
  },
  {
   "cell_type":"markdown",
   "source":[
    "Calculate $F(spam)$:\n",
    "> Laplace Smoothing With Known Words\n",
    "> $$P(X| Class = y) = \\dfrac{1 + num\\; of \\; word \\; \\color{purple}{x} \\; in  \\;the  \\;class \\; y}{|V|+num\\; of \\; words  \\; in  \\;the  \\;class \\; y}$$\n",
    "> $|V|$ - the number of words in the dictionary"
   ],
   "attachments":{
    
   },
   "metadata":{
    "datalore":{
     "node_id":"AczJ5M1aLY21BWKhQB5GGW",
     "type":"MD",
     "hide_input_from_viewers":true,
     "hide_output_from_viewers":true
    }
   }
  },
  {
   "cell_type":"markdown",
   "source":[
    "Butt our email contains the words that is not in the dictionary $\\color{Purple}{Remove \\;Prize}$ Use Laplace smoothing to retrain the classifier while it is learning:\n",
    "> Laplace Smoothing \n",
    "> $$P(X| Class = y) = \\dfrac{1 + num\\; of \\; word \\; \\color{purple}{x} \\; in  \\;the  \\;class \\; y}{|V|+ \\color{Purple}{r}+ num\\; of \\; words  \\; in  \\;the  \\;class \\; y}$$\n",
    "> where $\\color{Purple}{r}$ is the number of words that are not in the dictionary"
   ],
   "attachments":{
    
   },
   "metadata":{
    "datalore":{
     "node_id":"1YMY34MPvcDfsLzqIG4CkR",
     "type":"MD",
     "hide_input_from_viewers":true,
     "hide_output_from_viewers":true
    }
   }
  },
  {
   "cell_type":"code",
   "source":[
    "SPAM_WORDS = 124"
   ],
   "execution_count":6,
   "outputs":[
    
   ],
   "metadata":{
    "datalore":{
     "node_id":"4x1WJvLtZEH4mFcGKIpEAo",
     "type":"CODE",
     "hide_input_from_viewers":true,
     "hide_output_from_viewers":true
    }
   }
  },
  {
   "cell_type":"code",
   "source":[
    "def LaplaceSmoothing(wordsX, r, wordsClassY):\n",
    "    return (1 + wordsX) \/ (WORDS_IN_DICT + r + wordsClassY)"
   ],
   "execution_count":7,
   "outputs":[
    
   ],
   "metadata":{
    "datalore":{
     "node_id":"YOSEZWNiXgTnCOKrNXf4Br",
     "type":"CODE",
     "hide_input_from_viewers":true,
     "hide_output_from_viewers":true
    }
   }
  },
  {
   "cell_type":"code",
   "source":[
    "# our r\n",
    "WORDS_NOT_IN_DICT = 2"
   ],
   "execution_count":8,
   "outputs":[
    
   ],
   "metadata":{
    "datalore":{
     "node_id":"qE3157ZpkBoptRdNyWKauS",
     "type":"CODE",
     "hide_input_from_viewers":true,
     "hide_output_from_viewers":true
    }
   }
  },
  {
   "cell_type":"code",
   "source":[
    "P_Online_Spam = LaplaceSmoothing(55, WORDS_NOT_IN_DICT,SPAM_WORDS)"
   ],
   "execution_count":9,
   "outputs":[
    
   ],
   "metadata":{
    "datalore":{
     "node_id":"1p6oshakDVf4S11anDpP3o",
     "type":"CODE",
     "hide_input_from_viewers":true,
     "hide_output_from_viewers":true
    }
   }
  },
  {
   "cell_type":"code",
   "source":[
    "P_Offer_Spam = LaplaceSmoothing(5, WORDS_NOT_IN_DICT,SPAM_WORDS)"
   ],
   "execution_count":10,
   "outputs":[
    
   ],
   "metadata":{
    "datalore":{
     "node_id":"vSB2Lfuz5j1m136dvK3ckp",
     "type":"CODE",
     "hide_input_from_viewers":true,
     "hide_output_from_viewers":true
    }
   }
  },
  {
   "cell_type":"code",
   "source":[
    "P_Access_Spam = LaplaceSmoothing(4, WORDS_NOT_IN_DICT,SPAM_WORDS)"
   ],
   "execution_count":11,
   "outputs":[
    
   ],
   "metadata":{
    "datalore":{
     "node_id":"8p1Y1g5W9xpRkw0kvv8ap2",
     "type":"CODE",
     "hide_input_from_viewers":true,
     "hide_output_from_viewers":true
    }
   }
  },
  {
   "cell_type":"code",
   "source":[
    "P_Free_Spam = LaplaceSmoothing(6, WORDS_NOT_IN_DICT,SPAM_WORDS)"
   ],
   "execution_count":12,
   "outputs":[
    
   ],
   "metadata":{
    "datalore":{
     "node_id":"ooEEyLZvHzEdiWTO0qBM2U",
     "type":"CODE",
     "hide_input_from_viewers":true,
     "hide_output_from_viewers":true
    }
   }
  },
  {
   "cell_type":"code",
   "source":[
    "P_Unlimited_Spam = LaplaceSmoothing(22, WORDS_NOT_IN_DICT,SPAM_WORDS)"
   ],
   "execution_count":13,
   "outputs":[
    
   ],
   "metadata":{
    "datalore":{
     "node_id":"WaOy651sGVOEHSU4X4FuSW",
     "type":"CODE",
     "hide_input_from_viewers":true,
     "hide_output_from_viewers":true
    }
   }
  },
  {
   "cell_type":"code",
   "source":[
    "P_Remove_Spam = LaplaceSmoothing(0, WORDS_NOT_IN_DICT,SPAM_WORDS)"
   ],
   "execution_count":14,
   "outputs":[
    
   ],
   "metadata":{
    "datalore":{
     "node_id":"nep6rWjJaLhoMEMcpJQH0w",
     "type":"CODE",
     "hide_input_from_viewers":true,
     "hide_output_from_viewers":true
    }
   }
  },
  {
   "cell_type":"code",
   "source":[
    "P_Prize_Spam = LaplaceSmoothing(0, WORDS_NOT_IN_DICT,SPAM_WORDS)"
   ],
   "execution_count":15,
   "outputs":[
    
   ],
   "metadata":{
    "datalore":{
     "node_id":"91Uv9OFYI0eBGTMpKf6pfK",
     "type":"CODE",
     "hide_input_from_viewers":true,
     "hide_output_from_viewers":true
    }
   }
  },
  {
   "cell_type":"code",
   "source":[
    "F_Spam = np.log(P_Spam) + \\\n",
    "         np.log(P_Online_Spam) + \\\n",
    "         np.log(P_Offer_Spam) + \\\n",
    "         np.log(P_Access_Spam) + \\\n",
    "         np.log(P_Free_Spam) + \\\n",
    "         np.log(P_Unlimited_Spam) + \\\n",
    "         np.log(P_Remove_Spam) + \\\n",
    "         np.log(P_Prize_Spam)\n",
    "\n",
    "print(f\"F(spam)={F_Spam}\")"
   ],
   "execution_count":16,
   "outputs":[
    {
     "name":"stdout",
     "text":[
      "F(spam)=-22.52498777916111\n"
     ],
     "output_type":"stream"
    }
   ],
   "metadata":{
    "datalore":{
     "node_id":"dBBVwWhgzCe13psBYMSTUV",
     "type":"CODE",
     "hide_input_from_viewers":true,
     "hide_output_from_viewers":true
    }
   }
  },
  {
   "cell_type":"markdown",
   "source":[
    "Calculate $F(ham)$:"
   ],
   "attachments":{
    
   },
   "metadata":{
    "datalore":{
     "node_id":"lM1q5Ku8XCtCxVCmMbS88l",
     "type":"MD",
     "hide_input_from_viewers":true,
     "hide_output_from_viewers":true
    }
   }
  },
  {
   "cell_type":"code",
   "source":[
    "HAM_WORDS = 77"
   ],
   "execution_count":17,
   "outputs":[
    
   ],
   "metadata":{
    "datalore":{
     "node_id":"jFZYuHLgjwQEvZ5vDcFf85",
     "type":"CODE",
     "hide_input_from_viewers":true,
     "hide_output_from_viewers":true
    }
   }
  },
  {
   "cell_type":"code",
   "source":[
    "P_Ham = HAM_EMAILS \/ (SPAM_EMAILS + HAM_EMAILS)"
   ],
   "execution_count":18,
   "outputs":[
    
   ],
   "metadata":{
    "datalore":{
     "node_id":"QHxVJUU2WwbrVe1d54J3Ue",
     "type":"CODE",
     "hide_input_from_viewers":true,
     "hide_output_from_viewers":true
    }
   }
  },
  {
   "cell_type":"code",
   "source":[
    "P_Online_Ham = LaplaceSmoothing(12, WORDS_NOT_IN_DICT, HAM_WORDS)"
   ],
   "execution_count":19,
   "outputs":[
    
   ],
   "metadata":{
    "datalore":{
     "node_id":"yfi8HxB1s8WQ7ciUj5Rvvk",
     "type":"CODE",
     "hide_input_from_viewers":true,
     "hide_output_from_viewers":true
    }
   }
  },
  {
   "cell_type":"code",
   "source":[
    "P_Offer_Ham = LaplaceSmoothing(11, WORDS_NOT_IN_DICT, HAM_WORDS)"
   ],
   "execution_count":20,
   "outputs":[
    
   ],
   "metadata":{
    "datalore":{
     "node_id":"Q1AoYmhrfN83vYjve7FQul",
     "type":"CODE",
     "hide_input_from_viewers":true,
     "hide_output_from_viewers":true
    }
   }
  },
  {
   "cell_type":"code",
   "source":[
    "P_Access_Ham = LaplaceSmoothing(1, WORDS_NOT_IN_DICT, HAM_WORDS)"
   ],
   "execution_count":21,
   "outputs":[
    
   ],
   "metadata":{
    "datalore":{
     "node_id":"JgBHOONeMqZSOrpArYisqe",
     "type":"CODE",
     "hide_input_from_viewers":true,
     "hide_output_from_viewers":true
    }
   }
  },
  {
   "cell_type":"code",
   "source":[
    "P_Free_Ham = LaplaceSmoothing(1, WORDS_NOT_IN_DICT, HAM_WORDS)"
   ],
   "execution_count":22,
   "outputs":[
    
   ],
   "metadata":{
    "datalore":{
     "node_id":"a4k3M0sTbLfZRDDSk0YPoZ",
     "type":"CODE",
     "hide_input_from_viewers":true,
     "hide_output_from_viewers":true
    }
   }
  },
  {
   "cell_type":"code",
   "source":[
    "P_Unlimited_Ham = LaplaceSmoothing(19, WORDS_NOT_IN_DICT, HAM_WORDS)"
   ],
   "execution_count":23,
   "outputs":[
    
   ],
   "metadata":{
    "datalore":{
     "node_id":"mfYIq2w36xHwjCXFbYAmCx",
     "type":"CODE",
     "hide_input_from_viewers":true,
     "hide_output_from_viewers":true
    }
   }
  },
  {
   "cell_type":"code",
   "source":[
    "P_Remove_Ham = LaplaceSmoothing(0, WORDS_NOT_IN_DICT, HAM_WORDS)"
   ],
   "execution_count":24,
   "outputs":[
    
   ],
   "metadata":{
    "datalore":{
     "node_id":"gh6R5tUN4wNWQyZUY41jHZ",
     "type":"CODE",
     "hide_input_from_viewers":true,
     "hide_output_from_viewers":true
    }
   }
  },
  {
   "cell_type":"code",
   "source":[
    "P_Prize_Ham = LaplaceSmoothing(0, WORDS_NOT_IN_DICT, HAM_WORDS)"
   ],
   "execution_count":25,
   "outputs":[
    
   ],
   "metadata":{
    "datalore":{
     "node_id":"fgSQUik9ms4TM4l9ZeDM4a",
     "type":"CODE",
     "hide_input_from_viewers":true,
     "hide_output_from_viewers":true
    }
   }
  },
  {
   "cell_type":"code",
   "source":[
    "F_Ham = np.log(P_Ham) + \\\n",
    "         np.log(P_Online_Ham) + \\\n",
    "         np.log(P_Offer_Ham) + \\\n",
    "         np.log(P_Access_Ham) + \\\n",
    "         np.log(P_Free_Ham) + \\\n",
    "         np.log(P_Unlimited_Ham) + \\\n",
    "         np.log(P_Remove_Ham) + \\\n",
    "         np.log(P_Prize_Ham)\n",
    "\n",
    "print(f\"F(ham)={F_Ham}\")"
   ],
   "execution_count":26,
   "outputs":[
    {
     "name":"stdout",
     "text":[
      "F(ham)=-22.733012421149056\n"
     ],
     "output_type":"stream"
    }
   ],
   "metadata":{
    "datalore":{
     "node_id":"vPeEboSz720YsgHFf3KJxs",
     "type":"CODE",
     "hide_input_from_viewers":true,
     "hide_output_from_viewers":true
    }
   }
  },
  {
   "cell_type":"markdown",
   "source":[
    "Specify the probability $P(Class = Yes|Email)$ that the email **Online Offer Access Free Unlimited Remove Prize** is SPAM.\n",
    "\n",
    "> P(Class = Yes) == P(Class = SPAM)"
   ],
   "attachments":{
    
   },
   "metadata":{
    "datalore":{
     "node_id":"87DFz2hPvvFnQ9cpDmCFN6",
     "type":"MD",
     "hide_input_from_viewers":true,
     "hide_output_from_viewers":true
    }
   }
  },
  {
   "cell_type":"code",
   "source":[
    "P_Spam_Email = 1 \/ (1 + (np.e ** (F_Ham - (F_Spam))))\n",
    "\n",
    "P_Spam_Email"
   ],
   "execution_count":27,
   "outputs":[
    {
     "data":{
      "text\/plain":[
       "0.5518194245679725"
      ]
     },
     "metadata":{
      
     },
     "output_type":"display_data"
    }
   ],
   "metadata":{
    "datalore":{
     "node_id":"s6p5camDqzgf1jGlPJ422m",
     "type":"CODE",
     "hide_input_from_viewers":true,
     "hide_output_from_viewers":true
    }
   }
  }
 ],
 "metadata":{
  "kernelspec":{
   "display_name":"Python",
   "language":"python",
   "name":"python"
  },
  "datalore":{
   "computation_mode":"JUPYTER",
   "package_manager":"pip",
   "base_environment":"default",
   "packages":[
    
   ],
   "report_row_ids":[
    
   ],
   "version":3
  }
 },
 "nbformat":4,
 "nbformat_minor":4
}