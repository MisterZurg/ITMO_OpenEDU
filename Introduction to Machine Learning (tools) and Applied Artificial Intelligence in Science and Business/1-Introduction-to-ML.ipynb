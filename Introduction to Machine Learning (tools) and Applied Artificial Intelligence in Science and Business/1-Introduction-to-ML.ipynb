{
 "cells":[
  {
   "cell_type":"code",
   "source":[
    "import pandas as pd"
   ],
   "execution_count":1,
   "outputs":[
    
   ],
   "metadata":{
    "datalore":{
     "node_id":"zFLFABzuDeytXbrnbq8AZN",
     "type":"CODE",
     "hide_input_from_viewers":true,
     "hide_output_from_viewers":true
    }
   }
  },
  {
   "cell_type":"markdown",
   "source":[
    "The file contains the data on the average salary and population in Russia as of January 1, 2019 (according to the Russian Federal State Statistics Service). Imagine that someone has forgotten to mention **Orel, Nizhny Novgorod Region, Novosibirsk Region**. These regions should not be included in the summary. Please delete the data on these regions from the file and work with a new sample saved in the CSV format."
   ],
   "attachments":{
    
   },
   "metadata":{
    "datalore":{
     "node_id":"5UlXwgGB3zrizoefpJt5tG",
     "type":"MD",
     "hide_input_from_viewers":true,
     "hide_output_from_viewers":true
    }
   }
  },
  {
   "cell_type":"code",
   "source":[
    "the_file = \"https:\/\/courses.openedu.ru\/assets\/courseware\/v1\/35a4d891b912854b8ecae2dcf9a16068\/asset-v1:ITMOUniversity+INTROMLAAISBENG+spring_2023_ITMO_mag+type@asset+block\/salary_and_population.csv\"\n",
    "\n",
    "df = pd.read_csv(the_file)\n",
    "df.describe"
   ],
   "execution_count":2,
   "outputs":[
    {
     "data":{
      "text\/plain":[
       "<bound method NDFrame.describe of                 Region_RU                          Region_EN  AVG_Salary  \\\n",
       "0          Алтайский край                       Altai Region       25960   \n",
       "1        Амурская область                        Amur Region       43156   \n",
       "2   Архангельская область                 Arkhangelsk Region       47526   \n",
       "3    Астраханская область                   Astrakhan Region       32166   \n",
       "4    Белгородская область                    Belgorod Region       31163   \n",
       "..                    ...                                ...         ...   \n",
       "80   Чеченская Республика               Republic of Chechnya       26108   \n",
       "81   Чувашская Республика                   Chuvash Republic       27028   \n",
       "82           Чукотский АО                        Chukotka AO       96930   \n",
       "83      Ямало-Ненецкий АО  Yamalo-Nenets Autonomous district       86560   \n",
       "84    Ярославская область                   Yaroslavl Region       33882   \n",
       "\n",
       "    Population  Unnamed: 4  \n",
       "0       218866         NaN  \n",
       "1       793194         NaN  \n",
       "2      1144119         NaN  \n",
       "3      1014065         NaN  \n",
       "4      1547418         NaN  \n",
       "..         ...         ...  \n",
       "80     1456951         NaN  \n",
       "81     1223395         NaN  \n",
       "82       49663         NaN  \n",
       "83      541479         NaN  \n",
       "84     1259612         NaN  \n",
       "\n",
       "[85 rows x 5 columns]>"
      ]
     },
     "metadata":{
      
     },
     "output_type":"display_data"
    }
   ],
   "metadata":{
    "datalore":{
     "node_id":"c6TMJuDhflnegnPh5mmeSV",
     "type":"CODE",
     "hide_input_from_viewers":true,
     "hide_output_from_viewers":true
    }
   }
  },
  {
   "cell_type":"code",
   "source":[
    "df"
   ],
   "execution_count":3,
   "outputs":[
    {
     "data":{
      "text\/html":[
       "<div>\n",
       "<style scoped>\n",
       "    .dataframe tbody tr th:only-of-type {\n",
       "        vertical-align: middle;\n",
       "    }\n",
       "\n",
       "    .dataframe tbody tr th {\n",
       "        vertical-align: top;\n",
       "    }\n",
       "\n",
       "    .dataframe thead th {\n",
       "        text-align: right;\n",
       "    }\n",
       "<\/style>\n",
       "<table border=\"1\" class=\"dataframe\">\n",
       "  <thead>\n",
       "    <tr style=\"text-align: right;\">\n",
       "      <th><\/th>\n",
       "      <th>Region_RU<\/th>\n",
       "      <th>Region_EN<\/th>\n",
       "      <th>AVG_Salary<\/th>\n",
       "      <th>Population<\/th>\n",
       "      <th>Unnamed: 4<\/th>\n",
       "    <\/tr>\n",
       "  <\/thead>\n",
       "  <tbody>\n",
       "    <tr>\n",
       "      <th>0<\/th>\n",
       "      <td>Алтайский край<\/td>\n",
       "      <td>Altai Region<\/td>\n",
       "      <td>25960<\/td>\n",
       "      <td>218866<\/td>\n",
       "      <td>NaN<\/td>\n",
       "    <\/tr>\n",
       "    <tr>\n",
       "      <th>1<\/th>\n",
       "      <td>Амурская область<\/td>\n",
       "      <td>Amur Region<\/td>\n",
       "      <td>43156<\/td>\n",
       "      <td>793194<\/td>\n",
       "      <td>NaN<\/td>\n",
       "    <\/tr>\n",
       "    <tr>\n",
       "      <th>2<\/th>\n",
       "      <td>Архангельская область<\/td>\n",
       "      <td>Arkhangelsk Region<\/td>\n",
       "      <td>47526<\/td>\n",
       "      <td>1144119<\/td>\n",
       "      <td>NaN<\/td>\n",
       "    <\/tr>\n",
       "    <tr>\n",
       "      <th>3<\/th>\n",
       "      <td>Астраханская область<\/td>\n",
       "      <td>Astrakhan Region<\/td>\n",
       "      <td>32166<\/td>\n",
       "      <td>1014065<\/td>\n",
       "      <td>NaN<\/td>\n",
       "    <\/tr>\n",
       "    <tr>\n",
       "      <th>4<\/th>\n",
       "      <td>Белгородская область<\/td>\n",
       "      <td>Belgorod Region<\/td>\n",
       "      <td>31163<\/td>\n",
       "      <td>1547418<\/td>\n",
       "      <td>NaN<\/td>\n",
       "    <\/tr>\n",
       "    <tr>\n",
       "      <th>...<\/th>\n",
       "      <td>...<\/td>\n",
       "      <td>...<\/td>\n",
       "      <td>...<\/td>\n",
       "      <td>...<\/td>\n",
       "      <td>...<\/td>\n",
       "    <\/tr>\n",
       "    <tr>\n",
       "      <th>80<\/th>\n",
       "      <td>Чеченская Республика<\/td>\n",
       "      <td>Republic of Chechnya<\/td>\n",
       "      <td>26108<\/td>\n",
       "      <td>1456951<\/td>\n",
       "      <td>NaN<\/td>\n",
       "    <\/tr>\n",
       "    <tr>\n",
       "      <th>81<\/th>\n",
       "      <td>Чувашская Республика<\/td>\n",
       "      <td>Chuvash Republic<\/td>\n",
       "      <td>27028<\/td>\n",
       "      <td>1223395<\/td>\n",
       "      <td>NaN<\/td>\n",
       "    <\/tr>\n",
       "    <tr>\n",
       "      <th>82<\/th>\n",
       "      <td>Чукотский АО<\/td>\n",
       "      <td>Chukotka AO<\/td>\n",
       "      <td>96930<\/td>\n",
       "      <td>49663<\/td>\n",
       "      <td>NaN<\/td>\n",
       "    <\/tr>\n",
       "    <tr>\n",
       "      <th>83<\/th>\n",
       "      <td>Ямало-Ненецкий АО<\/td>\n",
       "      <td>Yamalo-Nenets Autonomous district<\/td>\n",
       "      <td>86560<\/td>\n",
       "      <td>541479<\/td>\n",
       "      <td>NaN<\/td>\n",
       "    <\/tr>\n",
       "    <tr>\n",
       "      <th>84<\/th>\n",
       "      <td>Ярославская область<\/td>\n",
       "      <td>Yaroslavl Region<\/td>\n",
       "      <td>33882<\/td>\n",
       "      <td>1259612<\/td>\n",
       "      <td>NaN<\/td>\n",
       "    <\/tr>\n",
       "  <\/tbody>\n",
       "<\/table>\n",
       "<p>85 rows × 5 columns<\/p>\n",
       "<\/div>"
      ]
     },
     "metadata":{
      
     },
     "output_type":"display_data"
    }
   ],
   "metadata":{
    "datalore":{
     "node_id":"YRzgSJkqUcCOOaF8PHj6F6",
     "type":"CODE",
     "hide_input_from_viewers":true,
     "hide_output_from_viewers":true
    }
   }
  },
  {
   "cell_type":"code",
   "source":[
    "task_df = df.loc[\n",
    "    (df.Region_EN != \"Orel\") &\n",
    "    (df.Region_EN != \"Nizhny Novgorod Region\") &\n",
    "    (df.Region_EN != \"Novosibirsk Region\")\n",
    "]\n",
    "\n",
    "task_df"
   ],
   "execution_count":11,
   "outputs":[
    {
     "data":{
      "text\/html":[
       "<div>\n",
       "<style scoped>\n",
       "    .dataframe tbody tr th:only-of-type {\n",
       "        vertical-align: middle;\n",
       "    }\n",
       "\n",
       "    .dataframe tbody tr th {\n",
       "        vertical-align: top;\n",
       "    }\n",
       "\n",
       "    .dataframe thead th {\n",
       "        text-align: right;\n",
       "    }\n",
       "<\/style>\n",
       "<table border=\"1\" class=\"dataframe\">\n",
       "  <thead>\n",
       "    <tr style=\"text-align: right;\">\n",
       "      <th><\/th>\n",
       "      <th>Region_RU<\/th>\n",
       "      <th>Region_EN<\/th>\n",
       "      <th>AVG_Salary<\/th>\n",
       "      <th>Population<\/th>\n",
       "      <th>Unnamed: 4<\/th>\n",
       "    <\/tr>\n",
       "  <\/thead>\n",
       "  <tbody>\n",
       "    <tr>\n",
       "      <th>0<\/th>\n",
       "      <td>Алтайский край<\/td>\n",
       "      <td>Altai Region<\/td>\n",
       "      <td>25960<\/td>\n",
       "      <td>218866<\/td>\n",
       "      <td>NaN<\/td>\n",
       "    <\/tr>\n",
       "    <tr>\n",
       "      <th>1<\/th>\n",
       "      <td>Амурская область<\/td>\n",
       "      <td>Amur Region<\/td>\n",
       "      <td>43156<\/td>\n",
       "      <td>793194<\/td>\n",
       "      <td>NaN<\/td>\n",
       "    <\/tr>\n",
       "    <tr>\n",
       "      <th>2<\/th>\n",
       "      <td>Архангельская область<\/td>\n",
       "      <td>Arkhangelsk Region<\/td>\n",
       "      <td>47526<\/td>\n",
       "      <td>1144119<\/td>\n",
       "      <td>NaN<\/td>\n",
       "    <\/tr>\n",
       "    <tr>\n",
       "      <th>3<\/th>\n",
       "      <td>Астраханская область<\/td>\n",
       "      <td>Astrakhan Region<\/td>\n",
       "      <td>32166<\/td>\n",
       "      <td>1014065<\/td>\n",
       "      <td>NaN<\/td>\n",
       "    <\/tr>\n",
       "    <tr>\n",
       "      <th>4<\/th>\n",
       "      <td>Белгородская область<\/td>\n",
       "      <td>Belgorod Region<\/td>\n",
       "      <td>31163<\/td>\n",
       "      <td>1547418<\/td>\n",
       "      <td>NaN<\/td>\n",
       "    <\/tr>\n",
       "    <tr>\n",
       "      <th>...<\/th>\n",
       "      <td>...<\/td>\n",
       "      <td>...<\/td>\n",
       "      <td>...<\/td>\n",
       "      <td>...<\/td>\n",
       "      <td>...<\/td>\n",
       "    <\/tr>\n",
       "    <tr>\n",
       "      <th>80<\/th>\n",
       "      <td>Чеченская Республика<\/td>\n",
       "      <td>Republic of Chechnya<\/td>\n",
       "      <td>26108<\/td>\n",
       "      <td>1456951<\/td>\n",
       "      <td>NaN<\/td>\n",
       "    <\/tr>\n",
       "    <tr>\n",
       "      <th>81<\/th>\n",
       "      <td>Чувашская Республика<\/td>\n",
       "      <td>Chuvash Republic<\/td>\n",
       "      <td>27028<\/td>\n",
       "      <td>1223395<\/td>\n",
       "      <td>NaN<\/td>\n",
       "    <\/tr>\n",
       "    <tr>\n",
       "      <th>82<\/th>\n",
       "      <td>Чукотский АО<\/td>\n",
       "      <td>Chukotka AO<\/td>\n",
       "      <td>96930<\/td>\n",
       "      <td>49663<\/td>\n",
       "      <td>NaN<\/td>\n",
       "    <\/tr>\n",
       "    <tr>\n",
       "      <th>83<\/th>\n",
       "      <td>Ямало-Ненецкий АО<\/td>\n",
       "      <td>Yamalo-Nenets Autonomous district<\/td>\n",
       "      <td>86560<\/td>\n",
       "      <td>541479<\/td>\n",
       "      <td>NaN<\/td>\n",
       "    <\/tr>\n",
       "    <tr>\n",
       "      <th>84<\/th>\n",
       "      <td>Ярославская область<\/td>\n",
       "      <td>Yaroslavl Region<\/td>\n",
       "      <td>33882<\/td>\n",
       "      <td>1259612<\/td>\n",
       "      <td>NaN<\/td>\n",
       "    <\/tr>\n",
       "  <\/tbody>\n",
       "<\/table>\n",
       "<p>82 rows × 5 columns<\/p>\n",
       "<\/div>"
      ]
     },
     "metadata":{
      
     },
     "output_type":"display_data"
    }
   ],
   "metadata":{
    "datalore":{
     "node_id":"JrxuFkNjcwgUREeesuIFI3",
     "type":"CODE",
     "hide_input_from_viewers":true,
     "hide_output_from_viewers":true
    }
   }
  },
  {
   "cell_type":"markdown",
   "source":[
    "Find the sample mean of the salary:\n",
    "> Enter the solution rounded to the hundredth."
   ],
   "attachments":{
    
   },
   "metadata":{
    "datalore":{
     "node_id":"f80XXYcGtAtbI2NyczL4cx",
     "type":"MD",
     "hide_input_from_viewers":true,
     "hide_output_from_viewers":true
    }
   }
  },
  {
   "cell_type":"code",
   "source":[
    "round(task_df.AVG_Salary.mean(), 2)"
   ],
   "execution_count":12,
   "outputs":[
    {
     "data":{
      "text\/plain":[
       "39083.51"
      ]
     },
     "metadata":{
      
     },
     "output_type":"display_data"
    }
   ],
   "metadata":{
    "datalore":{
     "node_id":"cCSbIVZe6L0DYOueHAlITM",
     "type":"CODE",
     "hide_input_from_viewers":true,
     "hide_output_from_viewers":true
    }
   }
  },
  {
   "cell_type":"markdown",
   "source":[
    "Find the sample median $Me$ of the salary:\n",
    "> Enter the solution rounded to the hundredth."
   ],
   "attachments":{
    
   },
   "metadata":{
    "datalore":{
     "node_id":"bVTMDPFH5uv0afSq2dJB6Y",
     "type":"MD",
     "hide_input_from_viewers":true,
     "hide_output_from_viewers":true
    }
   }
  },
  {
   "cell_type":"code",
   "source":[
    "task_df.AVG_Salary.median()"
   ],
   "execution_count":13,
   "outputs":[
    {
     "data":{
      "text\/plain":[
       "32779.5"
      ]
     },
     "metadata":{
      
     },
     "output_type":"display_data"
    }
   ],
   "metadata":{
    "datalore":{
     "node_id":"8zAX99g5PsecVlikNu2A0f",
     "type":"CODE",
     "hide_input_from_viewers":true,
     "hide_output_from_viewers":true
    }
   }
  },
  {
   "cell_type":"markdown",
   "source":[
    "Find the variance estimate $S^2$ of the salary:\n",
    "> Enter the solution rounded to the hundredth. In AzureML Studio use Population variance from Compute Elementary Statistics."
   ],
   "attachments":{
    
   },
   "metadata":{
    "datalore":{
     "node_id":"MXssRlrwcMklrlLuGTFhAK",
     "type":"MD",
     "hide_input_from_viewers":true,
     "hide_output_from_viewers":true
    }
   }
  },
  {
   "cell_type":"markdown",
   "source":[
    "$S^2 = \\frac{1}{n}\\sum\\limits_{i = 1}^n \\left(X_i - \\overline{X} \\right)^2$"
   ],
   "attachments":{
    
   },
   "metadata":{
    "datalore":{
     "node_id":"cQykexwXUqRv6YKKs9y9Y5",
     "type":"MD",
     "hide_input_from_viewers":true,
     "hide_output_from_viewers":true
    }
   }
  },
  {
   "cell_type":"code",
   "source":[
    "n = len(task_df.AVG_Salary)\n",
    "n"
   ],
   "execution_count":14,
   "outputs":[
    {
     "data":{
      "text\/plain":[
       "82"
      ]
     },
     "metadata":{
      
     },
     "output_type":"display_data"
    }
   ],
   "metadata":{
    "datalore":{
     "node_id":"GgiAv2lnoo5HLbBbzSvohx",
     "type":"CODE",
     "hide_input_from_viewers":true,
     "hide_output_from_viewers":true
    }
   }
  },
  {
   "cell_type":"code",
   "source":[
    "round(1\/n * sum((task_df.AVG_Salary - task_df.AVG_Salary.mean()) ** 2), 2)"
   ],
   "execution_count":16,
   "outputs":[
    {
     "data":{
      "text\/plain":[
       "275198442.23"
      ]
     },
     "metadata":{
      
     },
     "output_type":"display_data"
    }
   ],
   "metadata":{
    "datalore":{
     "node_id":"x3k3XyulhkG7uMCOysaOmp",
     "type":"CODE",
     "hide_input_from_viewers":true,
     "hide_output_from_viewers":true
    }
   }
  },
  {
   "cell_type":"markdown",
   "source":[
    "Find the standard deviation  of the salary:\n",
    "> Enter the solution rounded to the hundredth. In AzureML Studio use Population standart deviation from Compute Elementary Statistics."
   ],
   "attachments":{
    
   },
   "metadata":{
    "datalore":{
     "node_id":"K0CZmeFalGur3gjGsmwIoz",
     "type":"MD",
     "hide_input_from_viewers":true,
     "hide_output_from_viewers":true
    }
   }
  },
  {
   "cell_type":"markdown",
   "source":[
    "$\\sigma^\\ast = \\sqrt{\\frac{1}{n}\\sum\\limits_{i = 1}^n \\left(X_i - \\overline{X} \\right)^2}$"
   ],
   "attachments":{
    
   },
   "metadata":{
    "datalore":{
     "node_id":"muZEQjaZ8uj3fAmfWtNxlb",
     "type":"MD",
     "hide_input_from_viewers":true,
     "hide_output_from_viewers":true
    }
   }
  },
  {
   "cell_type":"code",
   "source":[
    "round(275198442.23 ** 0.5, 2)"
   ],
   "execution_count":18,
   "outputs":[
    {
     "data":{
      "text\/plain":[
       "16589.11"
      ]
     },
     "metadata":{
      
     },
     "output_type":"display_data"
    }
   ],
   "metadata":{
    "datalore":{
     "node_id":"58uq7wcLM82yFrfQWLiuJ0",
     "type":"CODE",
     "hide_input_from_viewers":true,
     "hide_output_from_viewers":true
    }
   }
  }
 ],
 "metadata":{
  "kernelspec":{
   "display_name":"Python",
   "language":"python",
   "name":"python"
  },
  "datalore":{
   "computation_mode":"JUPYTER",
   "package_manager":"pip",
   "base_environment":"default",
   "packages":[
    
   ],
   "report_row_ids":[
    
   ],
   "version":2
  }
 },
 "nbformat":4,
 "nbformat_minor":4
}