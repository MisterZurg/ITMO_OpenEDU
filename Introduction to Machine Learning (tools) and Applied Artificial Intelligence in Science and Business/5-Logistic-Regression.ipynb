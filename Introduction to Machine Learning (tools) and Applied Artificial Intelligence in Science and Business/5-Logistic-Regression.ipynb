{
 "cells":[
  {
   "cell_type":"code",
   "source":[
    "import pandas as pd\n",
    "from sklearn.linear_model import LogisticRegression\n",
    "\n",
    "from sklearn.metrics import (\n",
    "    confusion_matrix,\n",
    "    recall_score, \n",
    "    precision_score,\n",
    "    roc_curve,\n",
    "    auc\n",
    ")"
   ],
   "execution_count":58,
   "outputs":[
    
   ],
   "metadata":{
    "datalore":{
     "node_id":"pgnmmibjkuiOKAZnzOHS2v",
     "type":"CODE",
     "hide_input_from_viewers":true,
     "hide_output_from_viewers":true
    }
   }
  },
  {
   "cell_type":"markdown",
   "source":[
    "# Task 4\n",
    "\n",
    "[The provided dataset](https:\/\/courses.openedu.ru\/assets\/courseware\/v1\/a11f0b9cb0074fdacc112eee71eb0b67\/asset-v1:ITMOUniversity+INTROMLAAISBENG+spring_2023_ITMO_mag+type@asset+block\/candy-data.csv) consists of the Halloween candy ranking (of the best, or at least the most popular, sweets in America). Train the logistic regression model. The predictors are as follows: **chocolate, fruity, caramel, peanutyalmondy, nougat, crispedricewafer, hard, bar, pluribus, sugarpercent, pricepercent**, the response is **Y**.\n",
    "\n",
    "As a training set, use the data from the file. Do not include the following candies: **Nestle Butterfinger, Ring pop, Sixlets**.\n",
    "\n",
    "- In Azure ML Studio, specify the random seed = 2019 in the parameters of Logistic Regression item.\n",
    "\n",
    "Train the model and make the prediction for all the candies from [the test dataset](https:\/\/courses.openedu.ru\/assets\/courseware\/v1\/d53b0f8b959d03cc84a992f6070cabc6\/asset-v1:ITMOUniversity+INTROMLAAISBENG+spring_2023_ITMO_mag+type@asset+block\/candy-test.csv)."
   ],
   "attachments":{
    
   },
   "metadata":{
    "datalore":{
     "node_id":"KFqotVrQlHiG3q5CJielbD",
     "type":"MD",
     "hide_input_from_viewers":true,
     "hide_output_from_viewers":true
    }
   }
  },
  {
   "cell_type":"code",
   "source":[
    "train_URL = \"https:\/\/courses.openedu.ru\/assets\/courseware\/v1\/a11f0b9cb0074fdacc112eee71eb0b67\/asset-v1:ITMOUniversity+INTROMLAAISBENG+spring_2023_ITMO_mag+type@asset+block\/candy-data.csv\"\n",
    "\n",
    "train_df = pd.read_csv(train_URL, index_col=\"competitorname\")\n",
    "train_df.describe()"
   ],
   "execution_count":39,
   "outputs":[
    {
     "data":{
      "text\/html":[
       "<div>\n",
       "<style scoped>\n",
       "    .dataframe tbody tr th:only-of-type {\n",
       "        vertical-align: middle;\n",
       "    }\n",
       "\n",
       "    .dataframe tbody tr th {\n",
       "        vertical-align: top;\n",
       "    }\n",
       "\n",
       "    .dataframe thead th {\n",
       "        text-align: right;\n",
       "    }\n",
       "<\/style>\n",
       "<table border=\"1\" class=\"dataframe\">\n",
       "  <thead>\n",
       "    <tr style=\"text-align: right;\">\n",
       "      <th><\/th>\n",
       "      <th>chocolate<\/th>\n",
       "      <th>fruity<\/th>\n",
       "      <th>caramel<\/th>\n",
       "      <th>peanutyalmondy<\/th>\n",
       "      <th>nougat<\/th>\n",
       "      <th>crispedricewafer<\/th>\n",
       "      <th>hard<\/th>\n",
       "      <th>bar<\/th>\n",
       "      <th>pluribus<\/th>\n",
       "      <th>sugarpercent<\/th>\n",
       "      <th>pricepercent<\/th>\n",
       "      <th>winpercent<\/th>\n",
       "      <th>Y<\/th>\n",
       "    <\/tr>\n",
       "  <\/thead>\n",
       "  <tbody>\n",
       "    <tr>\n",
       "      <th>count<\/th>\n",
       "      <td>70.000000<\/td>\n",
       "      <td>70.000000<\/td>\n",
       "      <td>70.000000<\/td>\n",
       "      <td>70.000000<\/td>\n",
       "      <td>70.000000<\/td>\n",
       "      <td>70.000000<\/td>\n",
       "      <td>70.000000<\/td>\n",
       "      <td>70.000000<\/td>\n",
       "      <td>70.000000<\/td>\n",
       "      <td>70.000000<\/td>\n",
       "      <td>70.000000<\/td>\n",
       "      <td>70.000000<\/td>\n",
       "      <td>70.000000<\/td>\n",
       "    <\/tr>\n",
       "    <tr>\n",
       "      <th>mean<\/th>\n",
       "      <td>0.442857<\/td>\n",
       "      <td>0.442857<\/td>\n",
       "      <td>0.142857<\/td>\n",
       "      <td>0.200000<\/td>\n",
       "      <td>0.100000<\/td>\n",
       "      <td>0.071429<\/td>\n",
       "      <td>0.171429<\/td>\n",
       "      <td>0.271429<\/td>\n",
       "      <td>0.542857<\/td>\n",
       "      <td>0.491957<\/td>\n",
       "      <td>0.484271<\/td>\n",
       "      <td>51.322162<\/td>\n",
       "      <td>0.528571<\/td>\n",
       "    <\/tr>\n",
       "    <tr>\n",
       "      <th>std<\/th>\n",
       "      <td>0.500310<\/td>\n",
       "      <td>0.500310<\/td>\n",
       "      <td>0.352454<\/td>\n",
       "      <td>0.402888<\/td>\n",
       "      <td>0.302166<\/td>\n",
       "      <td>0.259399<\/td>\n",
       "      <td>0.379604<\/td>\n",
       "      <td>0.447907<\/td>\n",
       "      <td>0.501757<\/td>\n",
       "      <td>0.287336<\/td>\n",
       "      <td>0.284333<\/td>\n",
       "      <td>15.050191<\/td>\n",
       "      <td>0.502787<\/td>\n",
       "    <\/tr>\n",
       "    <tr>\n",
       "      <th>min<\/th>\n",
       "      <td>0.000000<\/td>\n",
       "      <td>0.000000<\/td>\n",
       "      <td>0.000000<\/td>\n",
       "      <td>0.000000<\/td>\n",
       "      <td>0.000000<\/td>\n",
       "      <td>0.000000<\/td>\n",
       "      <td>0.000000<\/td>\n",
       "      <td>0.000000<\/td>\n",
       "      <td>0.000000<\/td>\n",
       "      <td>0.011000<\/td>\n",
       "      <td>0.023000<\/td>\n",
       "      <td>22.445341<\/td>\n",
       "      <td>0.000000<\/td>\n",
       "    <\/tr>\n",
       "    <tr>\n",
       "      <th>25%<\/th>\n",
       "      <td>0.000000<\/td>\n",
       "      <td>0.000000<\/td>\n",
       "      <td>0.000000<\/td>\n",
       "      <td>0.000000<\/td>\n",
       "      <td>0.000000<\/td>\n",
       "      <td>0.000000<\/td>\n",
       "      <td>0.000000<\/td>\n",
       "      <td>0.000000<\/td>\n",
       "      <td>0.000000<\/td>\n",
       "      <td>0.267000<\/td>\n",
       "      <td>0.279000<\/td>\n",
       "      <td>39.152168<\/td>\n",
       "      <td>0.000000<\/td>\n",
       "    <\/tr>\n",
       "    <tr>\n",
       "      <th>50%<\/th>\n",
       "      <td>0.000000<\/td>\n",
       "      <td>0.000000<\/td>\n",
       "      <td>0.000000<\/td>\n",
       "      <td>0.000000<\/td>\n",
       "      <td>0.000000<\/td>\n",
       "      <td>0.000000<\/td>\n",
       "      <td>0.000000<\/td>\n",
       "      <td>0.000000<\/td>\n",
       "      <td>1.000000<\/td>\n",
       "      <td>0.465000<\/td>\n",
       "      <td>0.511000<\/td>\n",
       "      <td>51.876947<\/td>\n",
       "      <td>1.000000<\/td>\n",
       "    <\/tr>\n",
       "    <tr>\n",
       "      <th>75%<\/th>\n",
       "      <td>1.000000<\/td>\n",
       "      <td>1.000000<\/td>\n",
       "      <td>0.000000<\/td>\n",
       "      <td>0.000000<\/td>\n",
       "      <td>0.000000<\/td>\n",
       "      <td>0.000000<\/td>\n",
       "      <td>0.000000<\/td>\n",
       "      <td>1.000000<\/td>\n",
       "      <td>1.000000<\/td>\n",
       "      <td>0.732000<\/td>\n",
       "      <td>0.651000<\/td>\n",
       "      <td>62.884975<\/td>\n",
       "      <td>1.000000<\/td>\n",
       "    <\/tr>\n",
       "    <tr>\n",
       "      <th>max<\/th>\n",
       "      <td>1.000000<\/td>\n",
       "      <td>1.000000<\/td>\n",
       "      <td>1.000000<\/td>\n",
       "      <td>1.000000<\/td>\n",
       "      <td>1.000000<\/td>\n",
       "      <td>1.000000<\/td>\n",
       "      <td>1.000000<\/td>\n",
       "      <td>1.000000<\/td>\n",
       "      <td>1.000000<\/td>\n",
       "      <td>0.988000<\/td>\n",
       "      <td>0.976000<\/td>\n",
       "      <td>84.180290<\/td>\n",
       "      <td>1.000000<\/td>\n",
       "    <\/tr>\n",
       "  <\/tbody>\n",
       "<\/table>\n",
       "<\/div>"
      ]
     },
     "metadata":{
      
     },
     "output_type":"display_data"
    }
   ],
   "metadata":{
    "datalore":{
     "node_id":"kZRfMdr7pln9mXX9Ytl48V",
     "type":"CODE",
     "hide_input_from_viewers":true,
     "hide_output_from_viewers":true
    }
   }
  },
  {
   "cell_type":"code",
   "source":[
    "test_URL = \"https:\/\/courses.openedu.ru\/assets\/courseware\/v1\/d53b0f8b959d03cc84a992f6070cabc6\/asset-v1:ITMOUniversity+INTROMLAAISBENG+spring_2023_ITMO_mag+type@asset+block\/candy-test.csv\"\n",
    "\n",
    "test_df = pd.read_csv(test_URL, index_col=\"competitorname\")\n",
    "test_df.describe()"
   ],
   "execution_count":62,
   "outputs":[
    {
     "data":{
      "text\/html":[
       "<div>\n",
       "<style scoped>\n",
       "    .dataframe tbody tr th:only-of-type {\n",
       "        vertical-align: middle;\n",
       "    }\n",
       "\n",
       "    .dataframe tbody tr th {\n",
       "        vertical-align: top;\n",
       "    }\n",
       "\n",
       "    .dataframe thead th {\n",
       "        text-align: right;\n",
       "    }\n",
       "<\/style>\n",
       "<table border=\"1\" class=\"dataframe\">\n",
       "  <thead>\n",
       "    <tr style=\"text-align: right;\">\n",
       "      <th><\/th>\n",
       "      <th>chocolate<\/th>\n",
       "      <th>fruity<\/th>\n",
       "      <th>caramel<\/th>\n",
       "      <th>peanutyalmondy<\/th>\n",
       "      <th>nougat<\/th>\n",
       "      <th>crispedricewafer<\/th>\n",
       "      <th>hard<\/th>\n",
       "      <th>bar<\/th>\n",
       "      <th>pluribus<\/th>\n",
       "      <th>sugarpercent<\/th>\n",
       "      <th>pricepercent<\/th>\n",
       "      <th>Y<\/th>\n",
       "    <\/tr>\n",
       "  <\/thead>\n",
       "  <tbody>\n",
       "    <tr>\n",
       "      <th>count<\/th>\n",
       "      <td>15.000000<\/td>\n",
       "      <td>15.000000<\/td>\n",
       "      <td>15.000000<\/td>\n",
       "      <td>15.0<\/td>\n",
       "      <td>15.000000<\/td>\n",
       "      <td>15.0<\/td>\n",
       "      <td>15.000000<\/td>\n",
       "      <td>15.000000<\/td>\n",
       "      <td>15.000000<\/td>\n",
       "      <td>15.000000<\/td>\n",
       "      <td>15.000000<\/td>\n",
       "      <td>15.000000<\/td>\n",
       "    <\/tr>\n",
       "    <tr>\n",
       "      <th>mean<\/th>\n",
       "      <td>0.466667<\/td>\n",
       "      <td>0.533333<\/td>\n",
       "      <td>0.133333<\/td>\n",
       "      <td>0.0<\/td>\n",
       "      <td>0.066667<\/td>\n",
       "      <td>0.0<\/td>\n",
       "      <td>0.266667<\/td>\n",
       "      <td>0.066667<\/td>\n",
       "      <td>0.400000<\/td>\n",
       "      <td>0.426157<\/td>\n",
       "      <td>0.410449<\/td>\n",
       "      <td>0.333333<\/td>\n",
       "    <\/tr>\n",
       "    <tr>\n",
       "      <th>std<\/th>\n",
       "      <td>0.516398<\/td>\n",
       "      <td>0.516398<\/td>\n",
       "      <td>0.351866<\/td>\n",
       "      <td>0.0<\/td>\n",
       "      <td>0.258199<\/td>\n",
       "      <td>0.0<\/td>\n",
       "      <td>0.457738<\/td>\n",
       "      <td>0.258199<\/td>\n",
       "      <td>0.507093<\/td>\n",
       "      <td>0.262185<\/td>\n",
       "      <td>0.288810<\/td>\n",
       "      <td>0.487950<\/td>\n",
       "    <\/tr>\n",
       "    <tr>\n",
       "      <th>min<\/th>\n",
       "      <td>0.000000<\/td>\n",
       "      <td>0.000000<\/td>\n",
       "      <td>0.000000<\/td>\n",
       "      <td>0.0<\/td>\n",
       "      <td>0.000000<\/td>\n",
       "      <td>0.0<\/td>\n",
       "      <td>0.000000<\/td>\n",
       "      <td>0.000000<\/td>\n",
       "      <td>0.000000<\/td>\n",
       "      <td>0.093000<\/td>\n",
       "      <td>0.011000<\/td>\n",
       "      <td>0.000000<\/td>\n",
       "    <\/tr>\n",
       "    <tr>\n",
       "      <th>25%<\/th>\n",
       "      <td>0.000000<\/td>\n",
       "      <td>0.000000<\/td>\n",
       "      <td>0.000000<\/td>\n",
       "      <td>0.0<\/td>\n",
       "      <td>0.000000<\/td>\n",
       "      <td>0.0<\/td>\n",
       "      <td>0.000000<\/td>\n",
       "      <td>0.000000<\/td>\n",
       "      <td>0.000000<\/td>\n",
       "      <td>0.203000<\/td>\n",
       "      <td>0.185500<\/td>\n",
       "      <td>0.000000<\/td>\n",
       "    <\/tr>\n",
       "    <tr>\n",
       "      <th>50%<\/th>\n",
       "      <td>0.000000<\/td>\n",
       "      <td>1.000000<\/td>\n",
       "      <td>0.000000<\/td>\n",
       "      <td>0.0<\/td>\n",
       "      <td>0.000000<\/td>\n",
       "      <td>0.0<\/td>\n",
       "      <td>0.000000<\/td>\n",
       "      <td>0.000000<\/td>\n",
       "      <td>0.000000<\/td>\n",
       "      <td>0.313000<\/td>\n",
       "      <td>0.325000<\/td>\n",
       "      <td>0.000000<\/td>\n",
       "    <\/tr>\n",
       "    <tr>\n",
       "      <th>75%<\/th>\n",
       "      <td>1.000000<\/td>\n",
       "      <td>1.000000<\/td>\n",
       "      <td>0.000000<\/td>\n",
       "      <td>0.0<\/td>\n",
       "      <td>0.000000<\/td>\n",
       "      <td>0.0<\/td>\n",
       "      <td>0.500000<\/td>\n",
       "      <td>0.000000<\/td>\n",
       "      <td>1.000000<\/td>\n",
       "      <td>0.625682<\/td>\n",
       "      <td>0.660200<\/td>\n",
       "      <td>1.000000<\/td>\n",
       "    <\/tr>\n",
       "    <tr>\n",
       "      <th>max<\/th>\n",
       "      <td>1.000000<\/td>\n",
       "      <td>1.000000<\/td>\n",
       "      <td>1.000000<\/td>\n",
       "      <td>0.0<\/td>\n",
       "      <td>1.000000<\/td>\n",
       "      <td>0.0<\/td>\n",
       "      <td>1.000000<\/td>\n",
       "      <td>1.000000<\/td>\n",
       "      <td>1.000000<\/td>\n",
       "      <td>0.876560<\/td>\n",
       "      <td>0.866340<\/td>\n",
       "      <td>1.000000<\/td>\n",
       "    <\/tr>\n",
       "  <\/tbody>\n",
       "<\/table>\n",
       "<\/div>"
      ]
     },
     "metadata":{
      
     },
     "output_type":"display_data"
    }
   ],
   "metadata":{
    "datalore":{
     "node_id":"guC26IfrXSb7FPpJbzOolY",
     "type":"CODE",
     "hide_input_from_viewers":true,
     "hide_output_from_viewers":true
    }
   }
  },
  {
   "cell_type":"markdown",
   "source":[
    "### Exclude competitorname \n",
    "- Nestle Butterfinger\n",
    "- Ring pop\n",
    "- Sixlets"
   ],
   "attachments":{
    
   },
   "metadata":{
    "datalore":{
     "node_id":"yC80Bv4Nrc6DR6kjnvce4V",
     "type":"MD",
     "hide_input_from_viewers":true,
     "hide_output_from_viewers":true
    }
   }
  },
  {
   "cell_type":"code",
   "source":[
    "train_df = train_df.loc[\n",
    "    (train_df.index != \"Nestle Butterfinger\") &\n",
    "    (train_df.index != \"Ring pop\") &\n",
    "    (train_df.index != \"Sixlets\")\n",
    "]"
   ],
   "execution_count":41,
   "outputs":[
    
   ],
   "metadata":{
    "datalore":{
     "node_id":"PDqf3SQY2q2gKdOYfWoOR2",
     "type":"CODE",
     "hide_input_from_viewers":true,
     "hide_output_from_viewers":true
    }
   }
  },
  {
   "cell_type":"markdown",
   "source":[
    "### Predictors\n",
    "```\n",
    "chocolate, fruity, caramel, \n",
    "peanutyalmondy, nougat, crispedricewafer, \n",
    "hard, bar, pluribus, \n",
    "sugarpercent, pricepercent\n",
    "```"
   ],
   "attachments":{
    
   },
   "metadata":{
    "datalore":{
     "node_id":"dnJYHQOXMVu95PcVHf0Iow",
     "type":"MD",
     "hide_input_from_viewers":true,
     "hide_output_from_viewers":true
    }
   }
  },
  {
   "cell_type":"code",
   "source":[
    "train_df.columns"
   ],
   "execution_count":42,
   "outputs":[
    {
     "data":{
      "text\/plain":[
       "Index(['chocolate', 'fruity', 'caramel', 'peanutyalmondy', 'nougat',\n",
       "       'crispedricewafer', 'hard', 'bar', 'pluribus', 'sugarpercent',\n",
       "       'pricepercent', 'winpercent', 'Y'],\n",
       "      dtype='object')"
      ]
     },
     "metadata":{
      
     },
     "output_type":"display_data"
    }
   ],
   "metadata":{
    "datalore":{
     "node_id":"7hxE2wNsRrEG4DDSq5crCd",
     "type":"CODE",
     "hide_input_from_viewers":true,
     "hide_output_from_viewers":true
    }
   }
  },
  {
   "cell_type":"code",
   "source":[
    "# Predictors chocolate, fruity, caramel, peanutyalmondy, nougat, crispedricewafer, hard, bar, pluribus, sugarpercent, pricepercent\n",
    "X_train = train_df.drop(columns=[\"winpercent\",\"Y\"])\n",
    "y_train = train_df[\"Y\"]"
   ],
   "execution_count":43,
   "outputs":[
    
   ],
   "metadata":{
    "datalore":{
     "node_id":"CjIc7x7rmozYcHoQNY1NiN",
     "type":"CODE",
     "hide_input_from_viewers":true,
     "hide_output_from_viewers":true
    }
   }
  },
  {
   "cell_type":"code",
   "source":[
    "regressor = LogisticRegression()\n",
    "regressor.fit(X_train, y_train)"
   ],
   "execution_count":44,
   "outputs":[
    {
     "data":{
      "text\/plain":[
       "LogisticRegression()"
      ]
     },
     "metadata":{
      
     },
     "output_type":"display_data"
    }
   ],
   "metadata":{
    "datalore":{
     "node_id":"l5rIejK8XquWt7MN2WqIge",
     "type":"CODE",
     "hide_input_from_viewers":true,
     "hide_output_from_viewers":true
    }
   }
  },
  {
   "cell_type":"code",
   "source":[
    "# test_df = test_df.loc[\n",
    "#     (test_df.index == \"Swedish Fish\") |\n",
    "#     (test_df.index == \"Tootsie Pop\")\n",
    "# ]\n",
    "test_df"
   ],
   "execution_count":70,
   "outputs":[
    {
     "data":{
      "text\/html":[
       "<div>\n",
       "<style scoped>\n",
       "    .dataframe tbody tr th:only-of-type {\n",
       "        vertical-align: middle;\n",
       "    }\n",
       "\n",
       "    .dataframe tbody tr th {\n",
       "        vertical-align: top;\n",
       "    }\n",
       "\n",
       "    .dataframe thead th {\n",
       "        text-align: right;\n",
       "    }\n",
       "<\/style>\n",
       "<table border=\"1\" class=\"dataframe\">\n",
       "  <thead>\n",
       "    <tr style=\"text-align: right;\">\n",
       "      <th><\/th>\n",
       "      <th>chocolate<\/th>\n",
       "      <th>fruity<\/th>\n",
       "      <th>caramel<\/th>\n",
       "      <th>peanutyalmondy<\/th>\n",
       "      <th>nougat<\/th>\n",
       "      <th>crispedricewafer<\/th>\n",
       "      <th>hard<\/th>\n",
       "      <th>bar<\/th>\n",
       "      <th>pluribus<\/th>\n",
       "      <th>sugarpercent<\/th>\n",
       "      <th>pricepercent<\/th>\n",
       "      <th>Y<\/th>\n",
       "    <\/tr>\n",
       "    <tr>\n",
       "      <th>competitorname<\/th>\n",
       "      <th><\/th>\n",
       "      <th><\/th>\n",
       "      <th><\/th>\n",
       "      <th><\/th>\n",
       "      <th><\/th>\n",
       "      <th><\/th>\n",
       "      <th><\/th>\n",
       "      <th><\/th>\n",
       "      <th><\/th>\n",
       "      <th><\/th>\n",
       "      <th><\/th>\n",
       "      <th><\/th>\n",
       "    <\/tr>\n",
       "  <\/thead>\n",
       "  <tbody>\n",
       "    <tr>\n",
       "      <th>Sugar Babies<\/th>\n",
       "      <td>0<\/td>\n",
       "      <td>1<\/td>\n",
       "      <td>1<\/td>\n",
       "      <td>0<\/td>\n",
       "      <td>0<\/td>\n",
       "      <td>0<\/td>\n",
       "      <td>1<\/td>\n",
       "      <td>0<\/td>\n",
       "      <td>1<\/td>\n",
       "      <td>0.647364<\/td>\n",
       "      <td>0.76700<\/td>\n",
       "      <td>0<\/td>\n",
       "    <\/tr>\n",
       "    <tr>\n",
       "      <th>Sugar Daddy<\/th>\n",
       "      <td>1<\/td>\n",
       "      <td>0<\/td>\n",
       "      <td>0<\/td>\n",
       "      <td>0<\/td>\n",
       "      <td>1<\/td>\n",
       "      <td>0<\/td>\n",
       "      <td>1<\/td>\n",
       "      <td>0<\/td>\n",
       "      <td>0<\/td>\n",
       "      <td>0.418000<\/td>\n",
       "      <td>0.32500<\/td>\n",
       "      <td>0<\/td>\n",
       "    <\/tr>\n",
       "    <tr>\n",
       "      <th>Super Bubble<\/th>\n",
       "      <td>0<\/td>\n",
       "      <td>1<\/td>\n",
       "      <td>0<\/td>\n",
       "      <td>0<\/td>\n",
       "      <td>0<\/td>\n",
       "      <td>0<\/td>\n",
       "      <td>0<\/td>\n",
       "      <td>0<\/td>\n",
       "      <td>0<\/td>\n",
       "      <td>0.162000<\/td>\n",
       "      <td>0.11600<\/td>\n",
       "      <td>0<\/td>\n",
       "    <\/tr>\n",
       "    <tr>\n",
       "      <th>Swedish Fish<\/th>\n",
       "      <td>0<\/td>\n",
       "      <td>1<\/td>\n",
       "      <td>0<\/td>\n",
       "      <td>0<\/td>\n",
       "      <td>0<\/td>\n",
       "      <td>0<\/td>\n",
       "      <td>0<\/td>\n",
       "      <td>0<\/td>\n",
       "      <td>1<\/td>\n",
       "      <td>0.604000<\/td>\n",
       "      <td>0.75500<\/td>\n",
       "      <td>1<\/td>\n",
       "    <\/tr>\n",
       "    <tr>\n",
       "      <th>Tootsie Pop<\/th>\n",
       "      <td>1<\/td>\n",
       "      <td>0<\/td>\n",
       "      <td>0<\/td>\n",
       "      <td>0<\/td>\n",
       "      <td>0<\/td>\n",
       "      <td>0<\/td>\n",
       "      <td>0<\/td>\n",
       "      <td>0<\/td>\n",
       "      <td>0<\/td>\n",
       "      <td>0.876560<\/td>\n",
       "      <td>0.56540<\/td>\n",
       "      <td>1<\/td>\n",
       "    <\/tr>\n",
       "    <tr>\n",
       "      <th>Tootsie Roll Juniors<\/th>\n",
       "      <td>1<\/td>\n",
       "      <td>0<\/td>\n",
       "      <td>0<\/td>\n",
       "      <td>0<\/td>\n",
       "      <td>0<\/td>\n",
       "      <td>0<\/td>\n",
       "      <td>0<\/td>\n",
       "      <td>0<\/td>\n",
       "      <td>0<\/td>\n",
       "      <td>0.313000<\/td>\n",
       "      <td>0.51100<\/td>\n",
       "      <td>0<\/td>\n",
       "    <\/tr>\n",
       "    <tr>\n",
       "      <th>Tootsie Roll Midgies<\/th>\n",
       "      <td>1<\/td>\n",
       "      <td>0<\/td>\n",
       "      <td>0<\/td>\n",
       "      <td>0<\/td>\n",
       "      <td>0<\/td>\n",
       "      <td>0<\/td>\n",
       "      <td>0<\/td>\n",
       "      <td>0<\/td>\n",
       "      <td>1<\/td>\n",
       "      <td>0.174000<\/td>\n",
       "      <td>0.01100<\/td>\n",
       "      <td>0<\/td>\n",
       "    <\/tr>\n",
       "    <tr>\n",
       "      <th>Tootsie Roll Snack Bars<\/th>\n",
       "      <td>1<\/td>\n",
       "      <td>0<\/td>\n",
       "      <td>0<\/td>\n",
       "      <td>0<\/td>\n",
       "      <td>0<\/td>\n",
       "      <td>0<\/td>\n",
       "      <td>0<\/td>\n",
       "      <td>1<\/td>\n",
       "      <td>0<\/td>\n",
       "      <td>0.465000<\/td>\n",
       "      <td>0.32500<\/td>\n",
       "      <td>1<\/td>\n",
       "    <\/tr>\n",
       "    <tr>\n",
       "      <th>Trolli Sour Bites<\/th>\n",
       "      <td>0<\/td>\n",
       "      <td>1<\/td>\n",
       "      <td>0<\/td>\n",
       "      <td>0<\/td>\n",
       "      <td>0<\/td>\n",
       "      <td>0<\/td>\n",
       "      <td>0<\/td>\n",
       "      <td>0<\/td>\n",
       "      <td>1<\/td>\n",
       "      <td>0.313000<\/td>\n",
       "      <td>0.25500<\/td>\n",
       "      <td>0<\/td>\n",
       "    <\/tr>\n",
       "    <tr>\n",
       "      <th>Twix<\/th>\n",
       "      <td>0<\/td>\n",
       "      <td>1<\/td>\n",
       "      <td>0<\/td>\n",
       "      <td>0<\/td>\n",
       "      <td>0<\/td>\n",
       "      <td>0<\/td>\n",
       "      <td>0<\/td>\n",
       "      <td>0<\/td>\n",
       "      <td>0<\/td>\n",
       "      <td>0.735430<\/td>\n",
       "      <td>0.86634<\/td>\n",
       "      <td>1<\/td>\n",
       "    <\/tr>\n",
       "    <tr>\n",
       "      <th>Twizzlers<\/th>\n",
       "      <td>0<\/td>\n",
       "      <td>1<\/td>\n",
       "      <td>0<\/td>\n",
       "      <td>0<\/td>\n",
       "      <td>0<\/td>\n",
       "      <td>0<\/td>\n",
       "      <td>0<\/td>\n",
       "      <td>0<\/td>\n",
       "      <td>0<\/td>\n",
       "      <td>0.220000<\/td>\n",
       "      <td>0.11600<\/td>\n",
       "      <td>0<\/td>\n",
       "    <\/tr>\n",
       "    <tr>\n",
       "      <th>Warheads<\/th>\n",
       "      <td>0<\/td>\n",
       "      <td>1<\/td>\n",
       "      <td>0<\/td>\n",
       "      <td>0<\/td>\n",
       "      <td>0<\/td>\n",
       "      <td>0<\/td>\n",
       "      <td>1<\/td>\n",
       "      <td>0<\/td>\n",
       "      <td>0<\/td>\n",
       "      <td>0.093000<\/td>\n",
       "      <td>0.11600<\/td>\n",
       "      <td>0<\/td>\n",
       "    <\/tr>\n",
       "    <tr>\n",
       "      <th>Welchs Fruit Snacks<\/th>\n",
       "      <td>0<\/td>\n",
       "      <td>1<\/td>\n",
       "      <td>0<\/td>\n",
       "      <td>0<\/td>\n",
       "      <td>0<\/td>\n",
       "      <td>0<\/td>\n",
       "      <td>0<\/td>\n",
       "      <td>0<\/td>\n",
       "      <td>1<\/td>\n",
       "      <td>0.313000<\/td>\n",
       "      <td>0.31300<\/td>\n",
       "      <td>0<\/td>\n",
       "    <\/tr>\n",
       "    <tr>\n",
       "      <th>Werthers Original Caramel<\/th>\n",
       "      <td>1<\/td>\n",
       "      <td>0<\/td>\n",
       "      <td>1<\/td>\n",
       "      <td>0<\/td>\n",
       "      <td>0<\/td>\n",
       "      <td>0<\/td>\n",
       "      <td>1<\/td>\n",
       "      <td>0<\/td>\n",
       "      <td>0<\/td>\n",
       "      <td>0.186000<\/td>\n",
       "      <td>0.26700<\/td>\n",
       "      <td>0<\/td>\n",
       "    <\/tr>\n",
       "    <tr>\n",
       "      <th>Whoppers<\/th>\n",
       "      <td>1<\/td>\n",
       "      <td>0<\/td>\n",
       "      <td>0<\/td>\n",
       "      <td>0<\/td>\n",
       "      <td>0<\/td>\n",
       "      <td>0<\/td>\n",
       "      <td>0<\/td>\n",
       "      <td>0<\/td>\n",
       "      <td>1<\/td>\n",
       "      <td>0.872000<\/td>\n",
       "      <td>0.84800<\/td>\n",
       "      <td>1<\/td>\n",
       "    <\/tr>\n",
       "  <\/tbody>\n",
       "<\/table>\n",
       "<\/div>"
      ]
     },
     "metadata":{
      
     },
     "output_type":"display_data"
    }
   ],
   "metadata":{
    "datalore":{
     "node_id":"uVttyBv1YT1C7J59OkAAcm",
     "type":"CODE",
     "hide_input_from_viewers":true,
     "hide_output_from_viewers":true
    }
   }
  },
  {
   "cell_type":"code",
   "source":[
    "X_test = test_df.drop(columns=[\"Y\"])\n",
    "y_test = test_df[\"Y\"]\n",
    "\n",
    "y_preds = regressor.predict(X_test)\n",
    "y_preds"
   ],
   "execution_count":63,
   "outputs":[
    
   ],
   "metadata":{
    "datalore":{
     "node_id":"Pikx1FZ4fLvu5HeFH2dUfN",
     "type":"CODE",
     "hide_input_from_viewers":true,
     "hide_output_from_viewers":true
    }
   }
  },
  {
   "cell_type":"code",
   "source":[
    "ys_predict_proba = regressor.predict_proba(X_test)"
   ],
   "execution_count":77,
   "outputs":[
    
   ],
   "metadata":{
    "datalore":{
     "node_id":"dun3eEJQE6mTCBJBikKBH6",
     "type":"CODE",
     "hide_input_from_viewers":true,
     "hide_output_from_viewers":true
    }
   }
  },
  {
   "cell_type":"code",
   "source":[
    "regressor.score(X_test, y_test)"
   ],
   "execution_count":65,
   "outputs":[
    {
     "data":{
      "text\/plain":[
       "0.6666666666666666"
      ]
     },
     "metadata":{
      
     },
     "output_type":"display_data"
    }
   ],
   "metadata":{
    "datalore":{
     "node_id":"a5C2fyKw01WyxhUqVjG8Gb",
     "type":"CODE",
     "hide_input_from_viewers":true,
     "hide_output_from_viewers":true
    }
   }
  },
  {
   "cell_type":"markdown",
   "source":[
    "## Enter the predicted probability for Swedish Fish to class 1:"
   ],
   "attachments":{
    
   },
   "metadata":{
    "datalore":{
     "node_id":"qX4yQA3ISbjqSkUlmaWjwt",
     "type":"MD",
     "hide_input_from_viewers":true,
     "hide_output_from_viewers":true
    }
   }
  },
  {
   "cell_type":"code",
   "source":[
    "ys_predict_proba_df = pd.DataFrame(ys_predict_proba, index=test_df.index)\n",
    "ys_predict_proba_df.reset_index(inplace=True)"
   ],
   "execution_count":112,
   "outputs":[
    
   ],
   "metadata":{
    "datalore":{
     "node_id":"vV67sRBkEdDgwTBOo9E7Ou",
     "type":"CODE",
     "hide_input_from_viewers":true,
     "hide_output_from_viewers":true
    }
   }
  },
  {
   "cell_type":"code",
   "source":[
    "ys_predict_proba_df.loc[ys_predict_proba_df.competitorname == \"Swedish Fish\"]"
   ],
   "execution_count":119,
   "outputs":[
    {
     "data":{
      "text\/html":[
       "<div>\n",
       "<style scoped>\n",
       "    .dataframe tbody tr th:only-of-type {\n",
       "        vertical-align: middle;\n",
       "    }\n",
       "\n",
       "    .dataframe tbody tr th {\n",
       "        vertical-align: top;\n",
       "    }\n",
       "\n",
       "    .dataframe thead th {\n",
       "        text-align: right;\n",
       "    }\n",
       "<\/style>\n",
       "<table border=\"1\" class=\"dataframe\">\n",
       "  <thead>\n",
       "    <tr style=\"text-align: right;\">\n",
       "      <th><\/th>\n",
       "      <th>competitorname<\/th>\n",
       "      <th>0<\/th>\n",
       "      <th>1<\/th>\n",
       "    <\/tr>\n",
       "  <\/thead>\n",
       "  <tbody>\n",
       "    <tr>\n",
       "      <th>3<\/th>\n",
       "      <td>Swedish Fish<\/td>\n",
       "      <td>0.620202<\/td>\n",
       "      <td>0.379798<\/td>\n",
       "    <\/tr>\n",
       "  <\/tbody>\n",
       "<\/table>\n",
       "<\/div>"
      ]
     },
     "metadata":{
      
     },
     "output_type":"display_data"
    }
   ],
   "metadata":{
    "datalore":{
     "node_id":"PZDtQ9V4C1xueh3epMRFQ4",
     "type":"CODE",
     "hide_input_from_viewers":true,
     "hide_output_from_viewers":true
    }
   }
  },
  {
   "cell_type":"markdown",
   "source":[
    "## Enter the predicted probability for Tootsie Pop to class 1:"
   ],
   "attachments":{
    
   },
   "metadata":{
    "datalore":{
     "node_id":"owjdINRS7rQNf4Xr6fhyYY",
     "type":"MD",
     "hide_input_from_viewers":true,
     "hide_output_from_viewers":true
    }
   }
  },
  {
   "cell_type":"code",
   "source":[
    "ys_predict_proba_df.loc[ys_predict_proba_df.competitorname == \"Tootsie Pop\"]"
   ],
   "execution_count":120,
   "outputs":[
    {
     "data":{
      "text\/html":[
       "<div>\n",
       "<style scoped>\n",
       "    .dataframe tbody tr th:only-of-type {\n",
       "        vertical-align: middle;\n",
       "    }\n",
       "\n",
       "    .dataframe tbody tr th {\n",
       "        vertical-align: top;\n",
       "    }\n",
       "\n",
       "    .dataframe thead th {\n",
       "        text-align: right;\n",
       "    }\n",
       "<\/style>\n",
       "<table border=\"1\" class=\"dataframe\">\n",
       "  <thead>\n",
       "    <tr style=\"text-align: right;\">\n",
       "      <th><\/th>\n",
       "      <th>competitorname<\/th>\n",
       "      <th>0<\/th>\n",
       "      <th>1<\/th>\n",
       "    <\/tr>\n",
       "  <\/thead>\n",
       "  <tbody>\n",
       "    <tr>\n",
       "      <th>4<\/th>\n",
       "      <td>Tootsie Pop<\/td>\n",
       "      <td>0.21914<\/td>\n",
       "      <td>0.78086<\/td>\n",
       "    <\/tr>\n",
       "  <\/tbody>\n",
       "<\/table>\n",
       "<\/div>"
      ]
     },
     "metadata":{
      
     },
     "output_type":"display_data"
    }
   ],
   "metadata":{
    "datalore":{
     "node_id":"Ct03R9L7qTV5hzskMgr1ce",
     "type":"CODE",
     "hide_input_from_viewers":true,
     "hide_output_from_viewers":true
    }
   }
  },
  {
   "cell_type":"markdown",
   "source":[
    "## Compute confusion matrix to evaluate the accuracy of a classification (Treshhold = 0.5)."
   ],
   "attachments":{
    
   },
   "metadata":{
    "datalore":{
     "node_id":"fEcXUaPRqKHUBQKxdRvGh8",
     "type":"MD",
     "hide_input_from_viewers":true,
     "hide_output_from_viewers":true
    }
   }
  },
  {
   "cell_type":"code",
   "source":[
    "confusion_matrix(y_test, y_preds)"
   ],
   "execution_count":66,
   "outputs":[
    {
     "data":{
      "text\/html":[
       "<pre>array([[7, 3],\n",
       "       [2, 3]])<\/pre>"
      ]
     },
     "metadata":{
      
     },
     "output_type":"display_data"
    }
   ],
   "metadata":{
    "datalore":{
     "node_id":"wsTM7U5P7OKmi7zywflLZR",
     "type":"CODE",
     "hide_input_from_viewers":true,
     "hide_output_from_viewers":true
    }
   }
  },
  {
   "cell_type":"markdown",
   "source":[
    "Calculate $Precision$:"
   ],
   "attachments":{
    
   },
   "metadata":{
    "datalore":{
     "node_id":"eUuehIpCNnm8MUKYb0sxHS",
     "type":"MD",
     "hide_input_from_viewers":true,
     "hide_output_from_viewers":true
    }
   }
  },
  {
   "cell_type":"code",
   "source":[
    "precision_score(y_test, y_preds)"
   ],
   "execution_count":67,
   "outputs":[
    {
     "data":{
      "text\/plain":[
       "0.5"
      ]
     },
     "metadata":{
      
     },
     "output_type":"display_data"
    }
   ],
   "metadata":{
    "datalore":{
     "node_id":"B4uH4UNvhPfJhnIFRPjPpZ",
     "type":"CODE",
     "hide_input_from_viewers":true,
     "hide_output_from_viewers":true
    }
   }
  },
  {
   "cell_type":"markdown",
   "source":[
    "Calculate $Recall$:"
   ],
   "attachments":{
    
   },
   "metadata":{
    "datalore":{
     "node_id":"z3wpA0Srn68j9e42QcVm9z",
     "type":"MD",
     "hide_input_from_viewers":true,
     "hide_output_from_viewers":true
    }
   }
  },
  {
   "cell_type":"code",
   "source":[
    "recall_score(y_test, y_preds)"
   ],
   "execution_count":68,
   "outputs":[
    {
     "data":{
      "text\/plain":[
       "0.6"
      ]
     },
     "metadata":{
      
     },
     "output_type":"display_data"
    }
   ],
   "metadata":{
    "datalore":{
     "node_id":"3GTVO7moYIX5VHXOBvpFeY",
     "type":"CODE",
     "hide_input_from_viewers":true,
     "hide_output_from_viewers":true
    }
   }
  },
  {
   "cell_type":"markdown",
   "source":[
    "Calculate $AUC$:"
   ],
   "attachments":{
    
   },
   "metadata":{
    "datalore":{
     "node_id":"xMkQ0tZZ55Y7bPHvT7ITKG",
     "type":"MD",
     "hide_input_from_viewers":true,
     "hide_output_from_viewers":true
    }
   }
  },
  {
   "cell_type":"code",
   "source":[
    "y_score = regressor.predict_proba(X_test)[:, 1]\n",
    "fpr, tpr, thresholds = roc_curve(y_test, y_score)\n",
    "auc(fpr, tpr)"
   ],
   "execution_count":76,
   "outputs":[
    {
     "data":{
      "text\/plain":[
       "0.84"
      ]
     },
     "metadata":{
      
     },
     "output_type":"display_data"
    }
   ],
   "metadata":{
    "datalore":{
     "node_id":"qgdQKz18xhqMaSllLt7jaI",
     "type":"CODE",
     "hide_input_from_viewers":true,
     "hide_output_from_viewers":true
    }
   }
  }
 ],
 "metadata":{
  "kernelspec":{
   "display_name":"Python",
   "language":"python",
   "name":"python"
  },
  "datalore":{
   "computation_mode":"JUPYTER",
   "package_manager":"pip",
   "base_environment":"default",
   "packages":[
    
   ],
   "report_row_ids":[
    
   ],
   "version":3
  }
 },
 "nbformat":4,
 "nbformat_minor":4
}