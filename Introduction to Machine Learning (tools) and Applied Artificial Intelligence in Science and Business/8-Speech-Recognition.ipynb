{
 "cells":[
  {
   "cell_type":"markdown",
   "source":[
    "# Exercise 8 Artificial Intelligence in Biometrics, Speech Recognition and Synthesis\n",
    "\n",
    "Welcome to the new stage of the competition between artificial and natural intelligence. First, you will listen to the audios and select the correct answer.\n",
    "\n",
    "Next, The Artificial Intelligence takes a turn. \n",
    "Instructions:\n",
    "- If you know what Python and pip are, refer to the documentation of SpeechRecognition (3.8.1) and pocketsphinx (0.1.15) and do a speech recognition.\n",
    "- If you don’t want to install anything, welcome to the cloud service Google Colab (the necessary files are available via the links: ipynb file and test audio)."
   ],
   "attachments":{
    
   },
   "metadata":{
    "datalore":{
     "node_id":"Wy5CV5Dhsp5QF6OhSC2v0i",
     "type":"MD",
     "hide_input_from_viewers":true,
     "hide_output_from_viewers":true
    }
   }
  },
  {
   "cell_type":"markdown",
   "source":[
    "Install libraries"
   ],
   "attachments":{
    
   },
   "metadata":{
    "datalore":{
     "node_id":"ClUv8vnKaHz5nynyLhTXHc",
     "type":"MD",
     "hide_input_from_viewers":false,
     "hide_output_from_viewers":false,
     "report_properties":{
      "rowId":"FOdhydX07q5GMkgaxeyNFM"
     }
    }
   }
  },
  {
   "cell_type":"code",
   "source":[
    "!pip install -q SpeechRecognition==3.8.1\n",
    "!pip install -q pocketsphinx==5.0.0"
   ],
   "execution_count":1,
   "outputs":[
    {
     "name":"stdout",
     "text":[
      "\r\n",
      "\u001b[1m[\u001b[0m\u001b[34;49mnotice\u001b[0m\u001b[1;39;49m]\u001b[0m\u001b[39;49m A new release of pip is available: \u001b[0m\u001b[31;49m23.0.1\u001b[0m\u001b[39;49m -> \u001b[0m\u001b[32;49m23.1.2\u001b[0m\r\n",
      "\u001b[1m[\u001b[0m\u001b[34;49mnotice\u001b[0m\u001b[1;39;49m]\u001b[0m\u001b[39;49m To update, run: \u001b[0m\u001b[32;49mpip install --upgrade pip\u001b[0m\r\n",
      "\r\n",
      "\u001b[1m[\u001b[0m\u001b[34;49mnotice\u001b[0m\u001b[1;39;49m]\u001b[0m\u001b[39;49m A new release of pip is available: \u001b[0m\u001b[31;49m23.0.1\u001b[0m\u001b[39;49m -> \u001b[0m\u001b[32;49m23.1.2\u001b[0m\r\n",
      "\u001b[1m[\u001b[0m\u001b[34;49mnotice\u001b[0m\u001b[1;39;49m]\u001b[0m\u001b[39;49m To update, run: \u001b[0m\u001b[32;49mpip install --upgrade pip\u001b[0m\r\n"
     ],
     "output_type":"stream"
    }
   ],
   "metadata":{
    "datalore":{
     "node_id":"FxBP4jBlGPlybPW478x4TY",
     "type":"CODE",
     "hide_input_from_viewers":false,
     "hide_output_from_viewers":false,
     "report_properties":{
      "rowId":"BXnYOVHC6cGTEOh4bja0ma"
     }
    }
   }
  },
  {
   "cell_type":"markdown",
   "source":[
    "Uploading library"
   ],
   "attachments":{
    
   },
   "metadata":{
    "datalore":{
     "node_id":"c0LQVXJMvdKMbGqrAdypXH",
     "type":"MD",
     "hide_input_from_viewers":false,
     "hide_output_from_viewers":false,
     "report_properties":{
      "rowId":"sAHnMuhBMpDzKvHpZyk9Nz"
     }
    }
   }
  },
  {
   "cell_type":"code",
   "source":[
    "import speech_recognition as sr"
   ],
   "execution_count":2,
   "outputs":[
    
   ],
   "metadata":{
    "datalore":{
     "node_id":"RQIb6QDNHklPt15F1nXN3T",
     "type":"CODE",
     "hide_input_from_viewers":false,
     "hide_output_from_viewers":false,
     "report_properties":{
      "rowId":"XSrgCzXaOiJp7hUQVQbOQ0"
     }
    }
   }
  },
  {
   "cell_type":"code",
   "source":[
    "import logging\n",
    "\n",
    "import requests\n",
    "# import simpleaudio"
   ],
   "execution_count":6,
   "outputs":[
    
   ],
   "metadata":{
    "datalore":{
     "node_id":"tKE60lXfVt1FeKU2cNiEJj",
     "type":"CODE",
     "hide_input_from_viewers":true,
     "hide_output_from_viewers":true
    }
   }
  },
  {
   "cell_type":"markdown",
   "source":[
    "Quite an easy code to recognize speech files and solve the problems:"
   ],
   "attachments":{
    
   },
   "metadata":{
    "datalore":{
     "node_id":"243AzxOyqs9DZV14Wv0Z6R",
     "type":"MD",
     "hide_input_from_viewers":false,
     "hide_output_from_viewers":false,
     "report_properties":{
      "rowId":"rEqd1a0peVq6qttvEm9uDc"
     }
    }
   }
  },
  {
   "cell_type":"code",
   "source":[
    "DEMO_URL = 'https:\/\/courses.openedu.ru\/assets\/courseware\/v1\/4e08af697703911a7a21a7387d58233b\/asset-v1:ITMOUniversity+INTROMLAAISBENG+spring_2023_ITMO_mag+type@asset+block\/1.wav'\n",
    "\n",
    "r = requests.get(DEMO_URL, allow_redirects=True)\n",
    "\n",
    "open('1.wav', 'wb').write(r.content)"
   ],
   "execution_count":20,
   "outputs":[
    {
     "data":{
      "text\/plain":[
       "675662"
      ]
     },
     "metadata":{
      
     },
     "output_type":"display_data"
    }
   ],
   "metadata":{
    "datalore":{
     "node_id":"LlnrFklXljibJG7pR0jga5",
     "type":"CODE",
     "hide_input_from_viewers":true,
     "hide_output_from_viewers":true
    }
   }
  },
  {
   "cell_type":"code",
   "source":[
    "# Имя файла, который требуется распознать\n",
    "AUDIO_FILE = '\/data\/notebook_files\/1.wav'\n",
    "\n",
    "# Чтение файла\n",
    "r = sr.Recognizer()\n",
    "with sr.AudioFile(AUDIO_FILE) as source:\n",
    "    audio = r.record(source)\n",
    "\n",
    "# Распознавание с помощью Sphinx\n",
    "try:\n",
    "    print(\"Результат Sphinx: \" + r.recognize_sphinx(audio))\n",
    "except sr.UnknownValueError:\n",
    "    print(\"Ошибка: Sphinx could not understand audio\")\n",
    "except sr.RequestError as e:\n",
    "    print(\"Ошибка: Sphinx error; {0}\".format(e))"
   ],
   "execution_count":23,
   "outputs":[
    {
     "name":"stdout",
     "text":[
      "Результат Sphinx: mindanao on their heads\n"
     ],
     "output_type":"stream"
    }
   ],
   "metadata":{
    "datalore":{
     "node_id":"3shmatqldsqOohBbqeNM3O",
     "type":"CODE",
     "hide_input_from_viewers":false,
     "hide_output_from_viewers":false,
     "report_properties":{
      "rowId":"XAvVEno8tiBOlnk9GXFffp"
     }
    }
   }
  },
  {
   "cell_type":"markdown",
   "source":[
    "## Helper Code"
   ],
   "attachments":{
    
   },
   "metadata":{
    "datalore":{
     "node_id":"0mLPwIjqlKj3S8wi66vDJp",
     "type":"MD",
     "hide_input_from_viewers":true,
     "hide_output_from_viewers":true
    }
   }
  },
  {
   "cell_type":"code",
   "source":[
    "def downloadWAV(url, filename: str):\n",
    "    r = requests.get(url, allow_redirects=True)\n",
    "    open(filename, 'wb').write(r.content)"
   ],
   "execution_count":27,
   "outputs":[
    
   ],
   "metadata":{
    "datalore":{
     "node_id":"JKOqvc8N8spnQ2fiTJ4NaQ",
     "type":"CODE",
     "hide_input_from_viewers":true,
     "hide_output_from_viewers":true
    }
   }
  },
  {
   "cell_type":"code",
   "source":[
    "task_1_url = \"https:\/\/de.ifmo.ru\/--openedu\/dataprocessing\/appliedai\/audio5\/10.wav\"\n",
    "downloadWAV(task_1_url, \"task1.wav\")"
   ],
   "execution_count":28,
   "outputs":[
    
   ],
   "metadata":{
    "datalore":{
     "node_id":"rxsrTtcs9NuEXYZeaT7oJU",
     "type":"CODE",
     "hide_input_from_viewers":true,
     "hide_output_from_viewers":true
    }
   }
  },
  {
   "cell_type":"code",
   "source":[
    "task_2_url = \"https:\/\/de.ifmo.ru\/--openedu\/dataprocessing\/appliedai\/audio5\/67.wav\"\n",
    "\n",
    "downloadWAV(task_2_url, \"task2.wav\")"
   ],
   "execution_count":29,
   "outputs":[
    
   ],
   "metadata":{
    "datalore":{
     "node_id":"aVstZHSpiJq6rt59vlP6tK",
     "type":"CODE",
     "hide_input_from_viewers":true,
     "hide_output_from_viewers":true
    }
   }
  },
  {
   "cell_type":"code",
   "source":[
    "task_3_url = \"https:\/\/de.ifmo.ru\/--openedu\/dataprocessing\/appliedai\/audio5\/61.wav\"\n",
    "\n",
    "downloadWAV(task_3_url, \"task3.wav\")"
   ],
   "execution_count":30,
   "outputs":[
    
   ],
   "metadata":{
    "datalore":{
     "node_id":"Q4hkV7Q71PnI6WKaYFhkOi",
     "type":"CODE",
     "hide_input_from_viewers":true,
     "hide_output_from_viewers":true
    }
   }
  },
  {
   "cell_type":"code",
   "source":[
    "task_4_url = \"https:\/\/de.ifmo.ru\/--openedu\/dataprocessing\/appliedai\/audio5\/21.wav\"\n",
    "\n",
    "downloadWAV(task_4_url, \"task4.wav\")"
   ],
   "execution_count":31,
   "outputs":[
    
   ],
   "metadata":{
    "datalore":{
     "node_id":"g6glsXnHi8PqONypd0yyim",
     "type":"CODE",
     "hide_input_from_viewers":true,
     "hide_output_from_viewers":true
    }
   }
  },
  {
   "cell_type":"code",
   "source":[
    "task_5_url = \"https:\/\/de.ifmo.ru\/--openedu\/dataprocessing\/appliedai\/audio5\/40.wav\"\n",
    "\n",
    "downloadWAV(task_5_url, \"task5.wav\")"
   ],
   "execution_count":32,
   "outputs":[
    
   ],
   "metadata":{
    "datalore":{
     "node_id":"AequK8BmqoB8wI0FUvNEa3",
     "type":"CODE",
     "hide_input_from_viewers":true,
     "hide_output_from_viewers":true
    }
   }
  },
  {
   "cell_type":"code",
   "source":[
    "task_6_url = \"https:\/\/de.ifmo.ru\/--openedu\/dataprocessing\/appliedai\/audio5\/36.wav\"\n",
    "\n",
    "downloadWAV(task_6_url, \"task6.wav\")"
   ],
   "execution_count":33,
   "outputs":[
    
   ],
   "metadata":{
    "datalore":{
     "node_id":"N8sryuOWhLrxpi2yBYdxgf",
     "type":"CODE",
     "hide_input_from_viewers":true,
     "hide_output_from_viewers":true
    }
   }
  },
  {
   "cell_type":"code",
   "source":[
    "task_7_url = \"https:\/\/de.ifmo.ru\/--openedu\/dataprocessing\/appliedai\/audio5\/52.wav\"\n",
    "\n",
    "downloadWAV(task_7_url, \"task7.wav\")"
   ],
   "execution_count":34,
   "outputs":[
    
   ],
   "metadata":{
    "datalore":{
     "node_id":"Ucu6IE9bnl3DZcnwPZIYcE",
     "type":"CODE",
     "hide_input_from_viewers":true,
     "hide_output_from_viewers":true
    }
   }
  },
  {
   "cell_type":"code",
   "source":[
    "def recognizeSpeechFromWAV(filename: str):\n",
    "    r = sr.Recognizer()\n",
    "    with sr.AudioFile(\"\/data\/notebook_files\/\"+filename) as source:\n",
    "        audio = r.record(source)\n",
    "\n",
    "    # Распознавание с помощью Sphinx\n",
    "    try:\n",
    "        print(f\"{filename} Результат Sphinx: {r.recognize_sphinx(audio)}\")\n",
    "    except sr.UnknownValueError:\n",
    "        print(f\"Ошибка: Sphinx could not understand audio from {filename}\")\n",
    "    except sr.RequestError as e:\n",
    "        print(\"Ошибка: Sphinx error; {0}\".format(e))"
   ],
   "execution_count":35,
   "outputs":[
    
   ],
   "metadata":{
    "datalore":{
     "node_id":"R5W0vYmoZvQ89wDGgTThSz",
     "type":"CODE",
     "hide_input_from_viewers":false,
     "hide_output_from_viewers":false,
     "report_properties":{
      "rowId":"GoyAy3RCGm0iBxriBEeeeT"
     }
    }
   }
  },
  {
   "cell_type":"markdown",
   "source":[
    "## Task — 1 What does Sphinx say?"
   ],
   "attachments":{
    
   },
   "metadata":{
    "datalore":{
     "node_id":"f35MipJah8pOiTIq1xUZab",
     "type":"MD",
     "hide_input_from_viewers":true,
     "hide_output_from_viewers":true
    }
   }
  },
  {
   "cell_type":"code",
   "source":[
    "recognizeSpeechFromWAV(\"task1.wav\")"
   ],
   "execution_count":36,
   "outputs":[
    {
     "name":"stdout",
     "text":[
      "task1.wav Результат Sphinx: actions speak louder than words\n"
     ],
     "output_type":"stream"
    }
   ],
   "metadata":{
    "datalore":{
     "node_id":"KPYg1gpj006PpQMcQWB3kd",
     "type":"CODE",
     "hide_input_from_viewers":true,
     "hide_output_from_viewers":true
    }
   }
  },
  {
   "cell_type":"markdown",
   "source":[
    "## Task 2 — What does Sphinx say?"
   ],
   "attachments":{
    
   },
   "metadata":{
    "datalore":{
     "node_id":"qQsj9xuoaJ7YKlk308dnlm",
     "type":"MD",
     "hide_input_from_viewers":true,
     "hide_output_from_viewers":true
    }
   }
  },
  {
   "cell_type":"code",
   "source":[
    "recognizeSpeechFromWAV(\"task2.wav\")"
   ],
   "execution_count":37,
   "outputs":[
    {
     "name":"stdout",
     "text":[
      "task2.wav Результат Sphinx: close to an arm and hand it to make\n"
     ],
     "output_type":"stream"
    }
   ],
   "metadata":{
    "datalore":{
     "node_id":"B9Gs7llwOhRFPmlFTcJwuo",
     "type":"CODE",
     "hide_input_from_viewers":true,
     "hide_output_from_viewers":true
    }
   }
  },
  {
   "cell_type":"markdown",
   "source":[
    "## Task 3 — What does Sphinx say?"
   ],
   "attachments":{
    
   },
   "metadata":{
    "datalore":{
     "node_id":"W1ik3aq3gdVR1ocm2irLJ2",
     "type":"MD",
     "hide_input_from_viewers":true,
     "hide_output_from_viewers":true
    }
   }
  },
  {
   "cell_type":"code",
   "source":[
    "recognizeSpeechFromWAV(\"task3.wav\")"
   ],
   "execution_count":38,
   "outputs":[
    {
     "name":"stdout",
     "text":[
      "task3.wav Результат Sphinx: well began his house down\n"
     ],
     "output_type":"stream"
    }
   ],
   "metadata":{
    "datalore":{
     "node_id":"Ecp3MpKet6humTX1cqCVet",
     "type":"CODE",
     "hide_input_from_viewers":true,
     "hide_output_from_viewers":true
    }
   }
  },
  {
   "cell_type":"markdown",
   "source":[
    "## Task 4 — What does Sphinx say?"
   ],
   "attachments":{
    
   },
   "metadata":{
    "datalore":{
     "node_id":"9UTDW4NiXpdWN1jafOL6hh",
     "type":"MD",
     "hide_input_from_viewers":true,
     "hide_output_from_viewers":true
    }
   }
  },
  {
   "cell_type":"code",
   "source":[
    "recognizeSpeechFromWAV(\"task4.wav\")"
   ],
   "execution_count":39,
   "outputs":[
    {
     "name":"stdout",
     "text":[
      "task4.wav Результат Sphinx: absence makes the heart grow fonder\n"
     ],
     "output_type":"stream"
    }
   ],
   "metadata":{
    "datalore":{
     "node_id":"pRrYWEmANdGFxH41zjsz0r",
     "type":"CODE",
     "hide_input_from_viewers":true,
     "hide_output_from_viewers":true
    }
   }
  },
  {
   "cell_type":"markdown",
   "source":[
    "## Task 5 — What does Sphinx say?"
   ],
   "attachments":{
    
   },
   "metadata":{
    "datalore":{
     "node_id":"4KnDwLoz6CD7WM29soBRQ1",
     "type":"MD",
     "hide_input_from_viewers":true,
     "hide_output_from_viewers":true
    }
   }
  },
  {
   "cell_type":"code",
   "source":[
    "recognizeSpeechFromWAV(\"task5.wav\")"
   ],
   "execution_count":40,
   "outputs":[
    {
     "name":"stdout",
     "text":[
      "task5.wav Результат Sphinx: what they will say to all carnes\n"
     ],
     "output_type":"stream"
    }
   ],
   "metadata":{
    "datalore":{
     "node_id":"kFgUEdTx0NRGeX8XQwWss2",
     "type":"CODE",
     "hide_input_from_viewers":true,
     "hide_output_from_viewers":true
    }
   }
  },
  {
   "cell_type":"markdown",
   "source":[
    "## Task 6 — What does Sphinx say?"
   ],
   "attachments":{
    
   },
   "metadata":{
    "datalore":{
     "node_id":"pJ7Mnnz54k7KlyHsyICalt",
     "type":"MD",
     "hide_input_from_viewers":true,
     "hide_output_from_viewers":true
    }
   }
  },
  {
   "cell_type":"code",
   "source":[
    "recognizeSpeechFromWAV(\"task6.wav\")"
   ],
   "execution_count":41,
   "outputs":[
    {
     "name":"stdout",
     "text":[
      "task6.wav Результат Sphinx: it all or even in glass houses shouldn't throw stones\n"
     ],
     "output_type":"stream"
    }
   ],
   "metadata":{
    "datalore":{
     "node_id":"TmtPDeF42ZRmSmrQGx9n2W",
     "type":"CODE",
     "hide_input_from_viewers":true,
     "hide_output_from_viewers":true
    }
   }
  },
  {
   "cell_type":"markdown",
   "source":[
    "## Task 7 — What does Sphinx say?"
   ],
   "attachments":{
    
   },
   "metadata":{
    "datalore":{
     "node_id":"LSiJC9QKhT2sAvG0ziNI26",
     "type":"MD",
     "hide_input_from_viewers":true,
     "hide_output_from_viewers":true
    }
   }
  },
  {
   "cell_type":"code",
   "source":[
    "recognizeSpeechFromWAV(\"task7.wav\")"
   ],
   "execution_count":42,
   "outputs":[
    {
     "name":"stdout",
     "text":[
      "task7.wav Результат Sphinx: why things come to those who wait\n"
     ],
     "output_type":"stream"
    }
   ],
   "metadata":{
    "datalore":{
     "node_id":"t4tdNtM5n6Wp3mAwRFkOOI",
     "type":"CODE",
     "hide_input_from_viewers":true,
     "hide_output_from_viewers":true
    }
   }
  }
 ],
 "metadata":{
  "kernelspec":{
   "display_name":"Python",
   "language":"python",
   "name":"python"
  },
  "datalore":{
   "computation_mode":"JUPYTER",
   "package_manager":"pip",
   "base_environment":"default",
   "packages":[
    
   ],
   "report_row_ids":[
    "FOdhydX07q5GMkgaxeyNFM",
    "BXnYOVHC6cGTEOh4bja0ma",
    "sAHnMuhBMpDzKvHpZyk9Nz",
    "XSrgCzXaOiJp7hUQVQbOQ0",
    "rEqd1a0peVq6qttvEm9uDc",
    "XAvVEno8tiBOlnk9GXFffp",
    "GoyAy3RCGm0iBxriBEeeeT"
   ],
   "version":3
  }
 },
 "nbformat":4,
 "nbformat_minor":4
}