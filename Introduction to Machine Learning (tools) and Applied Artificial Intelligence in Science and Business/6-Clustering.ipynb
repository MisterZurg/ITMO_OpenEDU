{
 "cells":[
  {
   "cell_type":"code",
   "source":[
    "from io import StringIO\n",
    "\n",
    "import pandas as pd\n",
    "import numpy as np\n",
    "\n",
    "from sklearn.neighbors import NearestNeighbors, KNeighborsClassifier"
   ],
   "execution_count":1,
   "outputs":[
    
   ],
   "metadata":{
    "datalore":{
     "node_id":"Q3rm39US8rLkJtv2OCqMMC",
     "type":"CODE",
     "hide_input_from_viewers":true,
     "hide_output_from_viewers":true
    }
   }
  },
  {
   "cell_type":"markdown",
   "source":[
    "# Exercise 6 — Clustering\n",
    "\n",
    "To solve this clustering problem, cluster the synthetic data into $\\color{purple}{K = 3}$ clusters using the K-means method.\n",
    "\n",
    "Below, the table data is presented in a row format (you can save it as a CSV file using any text editor, or paste it into Azure ML Studio using Enter Data Manually item):\n",
    "\n",
    "> <picture>\n",
    ">   <source media=\"(prefers-color-scheme: light)\" srcset=\"https:\/\/raw.githubusercontent.com\/Mqxx\/GitHub-Markdown\/main\/blockquotes\/badge\/light-theme\/issue.svg\">\n",
    ">   <img alt=\"Issue\" src=\"https:\/\/raw.githubusercontent.com\/Mqxx\/GitHub-Markdown\/main\/blockquotes\/badge\/dark-theme\/issue.svg\">\n",
    "> <\/picture><br>\n",
    ">\n",
    "> Exersise have to be soleved in **Azure ML** WebCam studio cause the clustruing predicting logic is different "
   ],
   "attachments":{
    
   },
   "metadata":{
    "datalore":{
     "node_id":"Lm6uAEYpOrfQsYgRLBwAXs",
     "type":"MD",
     "hide_input_from_viewers":true,
     "hide_output_from_viewers":true
    }
   }
  },
  {
   "cell_type":"code",
   "source":[
    "TESTDATA = StringIO(\n",
    "    \"\"\"\n",
    "    Object,X,Y,Cluster\n",
    "    1,18,11,0\n",
    "    2,13,16,1\n",
    "    3,16,12,2\n",
    "    4,19,5,0\n",
    "    5,20,19,0\n",
    "    6,17,1,2\n",
    "    7,3,1,0\n",
    "    8,15,18,1\n",
    "    9,6,4,1\n",
    "    10,11,4,0\n",
    "    11,5,16,1\n",
    "    12,19,11,0\n",
    "    13,5,12,1\n",
    "    14,10,11,1\n",
    "    15,9,2,2\n",
    "    \"\"\"\n",
    ")\n",
    "\n",
    "df = pd.read_csv(TESTDATA, sep=\",\")"
   ],
   "execution_count":3,
   "outputs":[
    
   ],
   "metadata":{
    "datalore":{
     "node_id":"Gwvu3RfKDyvWrqKc5i7hqJ",
     "type":"CODE",
     "hide_input_from_viewers":true,
     "hide_output_from_viewers":true
    }
   }
  },
  {
   "cell_type":"code",
   "source":[
    "df.X.astype(int)\n",
    "df.Y.astype(int)\n",
    "df.Cluster.astype(int)"
   ],
   "execution_count":4,
   "outputs":[
    {
     "data":{
      "text\/html":[
       "<pre>0     0\n",
       "1     1\n",
       "2     2\n",
       "3     0\n",
       "4     0\n",
       "5     2\n",
       "6     0\n",
       "7     1\n",
       "8     1\n",
       "9     0\n",
       "10    1\n",
       "11    0\n",
       "12    1\n",
       "13    1\n",
       "14    2\n",
       "Name: Cluster, dtype: int64<\/pre>"
      ]
     },
     "metadata":{
      
     },
     "output_type":"display_data"
    }
   ],
   "metadata":{
    "datalore":{
     "node_id":"I1iWCVzyj0DhsgJAlOhWuD",
     "type":"CODE",
     "hide_input_from_viewers":true,
     "hide_output_from_viewers":true
    }
   }
  },
  {
   "cell_type":"code",
   "source":[
    "from sklearn.cluster import KMeans\n",
    "\n",
    "X = df[[\"X\", \"Y\"]]#.to_numpy()\n",
    "y = df[\"Cluster\"]#.to_numpy()"
   ],
   "execution_count":5,
   "outputs":[
    
   ],
   "metadata":{
    "datalore":{
     "node_id":"LmYQ8RdYBl2saXGgz2VYQW",
     "type":"CODE",
     "hide_input_from_viewers":true,
     "hide_output_from_viewers":true
    }
   }
  },
  {
   "cell_type":"code",
   "source":[
    "preassigned_clusters = y.to_numpy()"
   ],
   "execution_count":9,
   "outputs":[
    {
     "data":{
      "text\/plain":[
       "numpy.ndarray"
      ]
     },
     "metadata":{
      
     },
     "output_type":"display_data"
    }
   ],
   "metadata":{
    "datalore":{
     "node_id":"Gd37Vponrrx5vqSo6ufuzb",
     "type":"CODE",
     "hide_input_from_viewers":true,
     "hide_output_from_viewers":true
    }
   }
  },
  {
   "cell_type":"code",
   "source":[
    "k_means = KMeans(\n",
    "    n_clusters=3, \n",
    "    random_state=0,\n",
    "    n_init=1,\n",
    "    init=preassigned_clusters,\n",
    ")\n",
    "\n",
    "clusters = k_means.fit_transform(X)"
   ],
   "execution_count":27,
   "outputs":[
    {
     "ename":"ValueError",
     "evalue":"ValueError: The shape of the initial centers (15, 1) does not match the number of clusters 3.",
     "traceback":[
      "\u001b[0;31m---------------------------------------------------------------------------",
      "Traceback (most recent call last)",
      "    at line 8 in <module>",
      "    at line 1282 in fit_transform(self, X, y, sample_weight)",
      "    at line 1158 in fit(self, X, y, sample_weight)",
      "    at line 999 in _validate_center_shape(self, X, centers)",
      "ValueError: The shape of the initial centers (15, 1) does not match the number of clusters 3."
     ],
     "output_type":"error"
    }
   ],
   "metadata":{
    "datalore":{
     "node_id":"h00UfZl8Vw3HtePKcwin2m",
     "type":"CODE",
     "hide_input_from_viewers":true,
     "hide_output_from_viewers":true
    }
   }
  },
  {
   "cell_type":"markdown",
   "source":[
    "### Specify the cluster to which an object will be assigned after clustering (the task is considered complete only if all the clusters are correctly specified)."
   ],
   "attachments":{
    
   },
   "metadata":{
    "datalore":{
     "node_id":"tYyBQPOuZznUjigwyA0THM",
     "type":"MD",
     "hide_input_from_viewers":true,
     "hide_output_from_viewers":true
    }
   }
  },
  {
   "cell_type":"code",
   "source":[
    "labels = k_means.fit_predict(X)\n",
    "\n",
    "df['cluster_km'] = labels\n",
    "df"
   ],
   "execution_count":56,
   "outputs":[
    {
     "data":{
      "text\/html":[
       "<div>\n",
       "<style scoped>\n",
       "    .dataframe tbody tr th:only-of-type {\n",
       "        vertical-align: middle;\n",
       "    }\n",
       "\n",
       "    .dataframe tbody tr th {\n",
       "        vertical-align: top;\n",
       "    }\n",
       "\n",
       "    .dataframe thead th {\n",
       "        text-align: right;\n",
       "    }\n",
       "<\/style>\n",
       "<table border=\"1\" class=\"dataframe\">\n",
       "  <thead>\n",
       "    <tr style=\"text-align: right;\">\n",
       "      <th><\/th>\n",
       "      <th>Object<\/th>\n",
       "      <th>X<\/th>\n",
       "      <th>Y<\/th>\n",
       "      <th>Cluster<\/th>\n",
       "      <th>cluster_km<\/th>\n",
       "    <\/tr>\n",
       "  <\/thead>\n",
       "  <tbody>\n",
       "    <tr>\n",
       "      <th>0<\/th>\n",
       "      <td>1<\/td>\n",
       "      <td>18<\/td>\n",
       "      <td>11<\/td>\n",
       "      <td>0<\/td>\n",
       "      <td>1<\/td>\n",
       "    <\/tr>\n",
       "    <tr>\n",
       "      <th>1<\/th>\n",
       "      <td>2<\/td>\n",
       "      <td>13<\/td>\n",
       "      <td>16<\/td>\n",
       "      <td>1<\/td>\n",
       "      <td>1<\/td>\n",
       "    <\/tr>\n",
       "    <tr>\n",
       "      <th>2<\/th>\n",
       "      <td>3<\/td>\n",
       "      <td>16<\/td>\n",
       "      <td>12<\/td>\n",
       "      <td>2<\/td>\n",
       "      <td>1<\/td>\n",
       "    <\/tr>\n",
       "    <tr>\n",
       "      <th>3<\/th>\n",
       "      <td>4<\/td>\n",
       "      <td>19<\/td>\n",
       "      <td>5<\/td>\n",
       "      <td>0<\/td>\n",
       "      <td>1<\/td>\n",
       "    <\/tr>\n",
       "    <tr>\n",
       "      <th>4<\/th>\n",
       "      <td>5<\/td>\n",
       "      <td>20<\/td>\n",
       "      <td>19<\/td>\n",
       "      <td>0<\/td>\n",
       "      <td>1<\/td>\n",
       "    <\/tr>\n",
       "    <tr>\n",
       "      <th>5<\/th>\n",
       "      <td>6<\/td>\n",
       "      <td>17<\/td>\n",
       "      <td>1<\/td>\n",
       "      <td>2<\/td>\n",
       "      <td>2<\/td>\n",
       "    <\/tr>\n",
       "    <tr>\n",
       "      <th>6<\/th>\n",
       "      <td>7<\/td>\n",
       "      <td>3<\/td>\n",
       "      <td>1<\/td>\n",
       "      <td>0<\/td>\n",
       "      <td>2<\/td>\n",
       "    <\/tr>\n",
       "    <tr>\n",
       "      <th>7<\/th>\n",
       "      <td>8<\/td>\n",
       "      <td>15<\/td>\n",
       "      <td>18<\/td>\n",
       "      <td>1<\/td>\n",
       "      <td>1<\/td>\n",
       "    <\/tr>\n",
       "    <tr>\n",
       "      <th>8<\/th>\n",
       "      <td>9<\/td>\n",
       "      <td>6<\/td>\n",
       "      <td>4<\/td>\n",
       "      <td>1<\/td>\n",
       "      <td>2<\/td>\n",
       "    <\/tr>\n",
       "    <tr>\n",
       "      <th>9<\/th>\n",
       "      <td>10<\/td>\n",
       "      <td>11<\/td>\n",
       "      <td>4<\/td>\n",
       "      <td>0<\/td>\n",
       "      <td>2<\/td>\n",
       "    <\/tr>\n",
       "    <tr>\n",
       "      <th>10<\/th>\n",
       "      <td>11<\/td>\n",
       "      <td>5<\/td>\n",
       "      <td>16<\/td>\n",
       "      <td>1<\/td>\n",
       "      <td>0<\/td>\n",
       "    <\/tr>\n",
       "    <tr>\n",
       "      <th>11<\/th>\n",
       "      <td>12<\/td>\n",
       "      <td>19<\/td>\n",
       "      <td>11<\/td>\n",
       "      <td>0<\/td>\n",
       "      <td>1<\/td>\n",
       "    <\/tr>\n",
       "    <tr>\n",
       "      <th>12<\/th>\n",
       "      <td>13<\/td>\n",
       "      <td>5<\/td>\n",
       "      <td>12<\/td>\n",
       "      <td>1<\/td>\n",
       "      <td>0<\/td>\n",
       "    <\/tr>\n",
       "    <tr>\n",
       "      <th>13<\/th>\n",
       "      <td>14<\/td>\n",
       "      <td>10<\/td>\n",
       "      <td>11<\/td>\n",
       "      <td>1<\/td>\n",
       "      <td>0<\/td>\n",
       "    <\/tr>\n",
       "    <tr>\n",
       "      <th>14<\/th>\n",
       "      <td>15<\/td>\n",
       "      <td>9<\/td>\n",
       "      <td>2<\/td>\n",
       "      <td>2<\/td>\n",
       "      <td>2<\/td>\n",
       "    <\/tr>\n",
       "  <\/tbody>\n",
       "<\/table>\n",
       "<\/div>"
      ]
     },
     "metadata":{
      
     },
     "output_type":"display_data"
    }
   ],
   "metadata":{
    "datalore":{
     "node_id":"TXHlTJtYzKDs0BJXxH2bWq",
     "type":"CODE",
     "hide_input_from_viewers":true,
     "hide_output_from_viewers":true
    }
   }
  },
  {
   "cell_type":"markdown",
   "source":[
    "### Based on the clustering results, determine the average distance between the centroid of cluster $0$ and the points belonging to cluster $0$.\n",
    "\n",
    "```\n",
    "numClasses = 3;\n",
    "[classIndexes, clusterCentroids] = kmeans(data, numClasses);\n",
    "meanDistances = zeros(numClasses, 1);\n",
    "for k = 1 : numClasses\n",
    "    % Get x and y of centroid.\n",
    "    xc = clusterCentroids(k, 1);\n",
    "    yc = clusterCentroids(k, 2);\n",
    "    % Get the x and y coordinates of points within this class only.\n",
    "    inClass = classIndexes == k; % Indexes of points that were assigned to this class.\n",
    "    x = data(inClass, 1); % Get not ALL x, but just x within this one class.\n",
    "    y = data(inClass, 2); % Get not ALL y, but just y within this one class.\n",
    "    % Get distances of all points in the class to the centroid for this class.\n",
    "    distances = sqrt((x - xc) .^ 2 + (y - yc) .^ 2);\n",
    "    meanDistances(k) = mean(distances);\n",
    "end\n",
    "```"
   ],
   "attachments":{
    
   },
   "metadata":{
    "datalore":{
     "node_id":"QQVYpp5AsvyEyKZzWRN78t",
     "type":"MD",
     "hide_input_from_viewers":true,
     "hide_output_from_viewers":true
    }
   }
  },
  {
   "cell_type":"code",
   "source":[
    "k_means.cluster_centers_"
   ],
   "execution_count":57,
   "outputs":[
    {
     "data":{
      "text\/html":[
       "<pre>array([[ 6.66666667, 13.        ],\n",
       "       [17.14285714, 13.14285714],\n",
       "       [ 9.2       ,  2.4       ]])<\/pre>"
      ]
     },
     "metadata":{
      
     },
     "output_type":"display_data"
    }
   ],
   "metadata":{
    "datalore":{
     "node_id":"iE2h1AhpdY7lfQ2BmRyn9i",
     "type":"CODE",
     "hide_input_from_viewers":true,
     "hide_output_from_viewers":true
    }
   }
  },
  {
   "cell_type":"code",
   "source":[
    "# xc = k_means.cluster_centers_[0][0]\n",
    "# yc = k_means.cluster_centers_[0][1]"
   ],
   "execution_count":58,
   "outputs":[
    
   ],
   "metadata":{
    "datalore":{
     "node_id":"kNPoyVornsk8JLHs20RXQu",
     "type":"CODE",
     "hide_input_from_viewers":true,
     "hide_output_from_viewers":true
    }
   }
  },
  {
   "cell_type":"code",
   "source":[
    "df[\"distanses\"] = np.sqrt(\n",
    "    (df.X - k_means.cluster_centers_[df.cluster_km][0]) ** 2 +\n",
    "    (df.Y - k_means.cluster_centers_[df.cluster_km][1]) ** 2\n",
    ")\n",
    "\n",
    "df[\"distanses\"]"
   ],
   "execution_count":null,
   "outputs":[
    
   ],
   "metadata":{
    "datalore":{
     "node_id":"GYgRsG4zI8EflRiEq1msit",
     "type":"CODE",
     "hide_input_from_viewers":true,
     "hide_output_from_viewers":true
    }
   }
  },
  {
   "cell_type":"code",
   "source":[
    "np.array([\n",
    "    5.165269,\n",
    "    4.907138,\n",
    "    3.446738,\n",
    "    7.090839,\n",
    "    7.528612,\n",
    "]).mean()"
   ],
   "execution_count":2,
   "outputs":[
    {
     "data":{
      "text\/plain":[
       "5.6277192"
      ]
     },
     "metadata":{
      
     },
     "output_type":"display_data"
    }
   ],
   "metadata":{
    "datalore":{
     "node_id":"vixFVjcsOWa8AWGkExGQuY",
     "type":"CODE",
     "hide_input_from_viewers":true,
     "hide_output_from_viewers":true
    }
   }
  }
 ],
 "metadata":{
  "kernelspec":{
   "display_name":"Python",
   "language":"python",
   "name":"python"
  },
  "datalore":{
   "computation_mode":"JUPYTER",
   "packages":[
    
   ],
   "report_row_ids":[
    
   ],
   "version":3
  }
 },
 "nbformat":4,
 "nbformat_minor":4
}